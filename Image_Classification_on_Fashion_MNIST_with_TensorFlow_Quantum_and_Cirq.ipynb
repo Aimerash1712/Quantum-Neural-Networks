{
  "cells": [
    {
      "cell_type": "markdown",
      "metadata": {
        "id": "ul073WDztsNU"
      },
      "source": [
        "# Image Classification on Fashion MNIST with TensorFlow-Quantum and Cirq"
      ]
    },
    {
      "cell_type": "markdown",
      "metadata": {
        "id": "FDtXZb18m0Jq"
      },
      "source": [
        "## About the Dataset and QML"
      ]
    },
    {
      "cell_type": "markdown",
      "metadata": {
        "id": "ecq9vXs7opLM"
      },
      "source": [
        "The original MNIST dataset contains a lot of handwritten digits. People from AI/ML/Data Science community love this dataset and use it as a benchmark to validate their algorithms. In fact, MNIST is often the first dataset they would try on. ***“If it doesn’t work on MNIST, it won’t work at all”***, they said. ***“Well, if it does work on MNIST, it may still fail on others.”*** Fashion-MNIST is intended to serve as a direct drop-in replacement for the original MNIST dataset to benchmark machine learning algorithms, as it shares the same image size and the structure of training and testing splits."
      ]
    },
    {
      "cell_type": "markdown",
      "metadata": {
        "id": "TBbNH7k6qSgt"
      },
      "source": [
        "We shall perform QML on Fashion MNIST dataset using TensorFLow Quantum and Cirq.\n",
        "\n",
        "[TensorFlow-Quantum](https://www.tensorflow.org/quantum/tutorials) is a great place to start learning QML and get into this amazing field. TensorFlow Quantum (TFQ) is a quantum machine learning library for rapid prototyping of hybrid quantum-classical ML models.TensorFlow Quantum focuses on quantum data and building hybrid quantum-classical models. It integrates quantum computing algorithms and logic designed in Cirq, and provides quantum computing primitives compatible with existing TensorFlow APIs, along with high-performance quantum circuit simulators.\n",
        "\n",
        "[Cirq](https://quantumai.google/cirq) is a Python software library for writing, manipulating, and optimizing quantum circuits, and then running them on quantum computers and quantum simulators. Cirq provides useful abstractions for dealing with today’s noisy intermediate-scale quantum computers, where details of the hardware are vital to achieving state-of-the-art results."
      ]
    },
    {
      "cell_type": "markdown",
      "metadata": {
        "id": "AOCdlEjxKoRN"
      },
      "source": [
        "Today's(NISQ Era) Quantum Computer are not very powerful and have various limitations. Also, the field of Quantum Machine Learning is currently evolving. To keep things simple, we will modify the Fashion MNIST dataset by making classification on only two classes - Sandal and Ankle boot. The reason to choose these classes is that they are similar to each other and therefore, it ascertains that the classification problem doesn't become very easy. The image shape in the provided dataset is (28,28), but we need to downscale the images to classify them using QML due to the hardware restrictions. We will downscale the images so that they have the shape (4,4)."
      ]
    },
    {
      "cell_type": "markdown",
      "metadata": {
        "id": "1mB2jAsznFZK"
      },
      "source": [
        "Number of Images in the Train Dataset - 10200\n",
        "\n",
        "Number of Images in the Validation Dataset - 1800\n",
        "\n",
        "Number of Images in the Test Dataset - 2000\n",
        "\n",
        "Size of each Image - (2,2)\n",
        "\n",
        "Type of Image - Grayscale Image\n",
        "\n",
        "Number of Labels - 2\n",
        "\n",
        "\n",
        "~~~\n",
        "Label\tDescription\n",
        "5\t    Sandal\n",
        "9\t    Ankle boot\n",
        "~~~"
      ]
    },
    {
      "cell_type": "markdown",
      "metadata": {
        "id": "_Xi8mJUptn42"
      },
      "source": [
        "## Installing required packages"
      ]
    },
    {
      "cell_type": "code",
      "execution_count": null,
      "metadata": {
        "id": "Xj9X94SHs7_o"
      },
      "outputs": [],
      "source": [
        "# installing TensorFLow Version 2.3.1\n",
        "from IPython.display import clear_output\n",
        "!pip install -q tensorflow==2.3.1\n",
        "clear_output()"
      ]
    },
    {
      "cell_type": "code",
      "execution_count": null,
      "metadata": {
        "id": "jEFDCf90oOwN"
      },
      "outputs": [],
      "source": [
        "# install tensorflow quantum\n",
        "!pip install -q tensorflow_quantum\n",
        "clear_output()"
      ]
    },
    {
      "cell_type": "code",
      "execution_count": null,
      "metadata": {
        "id": "Kr4kAs3ipWYN"
      },
      "outputs": [],
      "source": [
        "#install cirq\n",
        "!pip install cirq\n",
        "clear_output()"
      ]
    },
    {
      "cell_type": "code",
      "source": [
        "!pip uninstall -y tensorflow tensorflow-quantum cirq numpy  # Clean slate\n",
        "!pip install tensorflow==2.7.0  # Critical: TFQ 0.7.2 requires TF 2.7.0\n",
        "!pip install tensorflow-quantum==0.7.2  # Matches TF 2.7.0\n",
        "!pip install cirq==0.13.0  # Compatible version\n",
        "!pip install numpy==1.21.6  # Required for TF 2.7.0"
      ],
      "metadata": {
        "colab": {
          "base_uri": "https://localhost:8080/",
          "height": 1000
        },
        "id": "JFSWk8dp28zG",
        "outputId": "9e58831b-5c33-443a-fc21-c2b27ea9bbd9"
      },
      "execution_count": null,
      "outputs": [
        {
          "output_type": "stream",
          "name": "stdout",
          "text": [
            "Found existing installation: tensorflow 2.19.0\n",
            "Uninstalling tensorflow-2.19.0:\n",
            "  Successfully uninstalled tensorflow-2.19.0\n",
            "Found existing installation: tensorflow-quantum 0.7.3\n",
            "Uninstalling tensorflow-quantum-0.7.3:\n",
            "  Successfully uninstalled tensorflow-quantum-0.7.3\n",
            "Found existing installation: cirq 1.3.0\n",
            "Uninstalling cirq-1.3.0:\n",
            "  Successfully uninstalled cirq-1.3.0\n",
            "Found existing installation: numpy 1.26.4\n",
            "Uninstalling numpy-1.26.4:\n",
            "  Successfully uninstalled numpy-1.26.4\n",
            "\u001b[31mERROR: Could not find a version that satisfies the requirement tensorflow==2.7.0 (from versions: 2.12.0rc0, 2.12.0rc1, 2.12.0, 2.12.1, 2.13.0rc0, 2.13.0rc1, 2.13.0rc2, 2.13.0, 2.13.1, 2.14.0rc0, 2.14.0rc1, 2.14.0, 2.14.1, 2.15.0rc0, 2.15.0rc1, 2.15.0, 2.15.0.post1, 2.15.1, 2.16.0rc0, 2.16.1, 2.16.2, 2.17.0rc0, 2.17.0rc1, 2.17.0, 2.17.1, 2.18.0rc0, 2.18.0rc1, 2.18.0rc2, 2.18.0, 2.18.1, 2.19.0rc0, 2.19.0)\u001b[0m\u001b[31m\n",
            "\u001b[0m\u001b[31mERROR: No matching distribution found for tensorflow==2.7.0\u001b[0m\u001b[31m\n",
            "\u001b[0m\u001b[31mERROR: Could not find a version that satisfies the requirement tensorflow-quantum==0.7.2 (from versions: 0.7.3)\u001b[0m\u001b[31m\n",
            "\u001b[0m\u001b[31mERROR: No matching distribution found for tensorflow-quantum==0.7.2\u001b[0m\u001b[31m\n",
            "\u001b[0mCollecting cirq==0.13.0\n",
            "  Downloading cirq-0.13.0-py3-none-any.whl.metadata (7.5 kB)\n",
            "Collecting cirq-aqt==0.13.0 (from cirq==0.13.0)\n",
            "  Downloading cirq_aqt-0.13.0-py3-none-any.whl.metadata (1.6 kB)\n",
            "Collecting cirq-core==0.13.0 (from cirq==0.13.0)\n",
            "  Downloading cirq_core-0.13.0-py3-none-any.whl.metadata (2.1 kB)\n",
            "Collecting cirq-google==0.13.0 (from cirq==0.13.0)\n",
            "  Downloading cirq_google-0.13.0-py3-none-any.whl.metadata (1.9 kB)\n",
            "Collecting cirq-ionq==0.13.0 (from cirq==0.13.0)\n",
            "  Downloading cirq_ionq-0.13.0-py3-none-any.whl.metadata (1.6 kB)\n",
            "Collecting cirq-pasqal==0.13.0 (from cirq==0.13.0)\n",
            "  Downloading cirq_pasqal-0.13.0-py3-none-any.whl.metadata (1.6 kB)\n",
            "Collecting cirq-rigetti==0.13.0 (from cirq==0.13.0)\n",
            "  Downloading cirq_rigetti-0.13.0-py3-none-any.whl.metadata (2.4 kB)\n",
            "Collecting cirq-web==0.13.0 (from cirq==0.13.0)\n",
            "  Downloading cirq_web-0.13.0-py3-none-any.whl.metadata (2.5 kB)\n",
            "Requirement already satisfied: requests~=2.18 in /usr/local/lib/python3.11/dist-packages (from cirq-aqt==0.13.0->cirq==0.13.0) (2.32.3)\n",
            "Requirement already satisfied: duet~=0.2.0 in /usr/local/lib/python3.11/dist-packages (from cirq-core==0.13.0->cirq==0.13.0) (0.2.9)\n",
            "Requirement already satisfied: matplotlib~=3.0 in /usr/local/lib/python3.11/dist-packages (from cirq-core==0.13.0->cirq==0.13.0) (3.10.0)\n",
            "Collecting networkx~=2.4 (from cirq-core==0.13.0->cirq==0.13.0)\n",
            "  Downloading networkx-2.8.8-py3-none-any.whl.metadata (5.1 kB)\n",
            "Collecting numpy~=1.16 (from cirq-core==0.13.0->cirq==0.13.0)\n",
            "  Using cached numpy-1.26.4-cp311-cp311-manylinux_2_17_x86_64.manylinux2014_x86_64.whl.metadata (61 kB)\n",
            "Requirement already satisfied: pandas in /usr/local/lib/python3.11/dist-packages (from cirq-core==0.13.0->cirq==0.13.0) (2.2.2)\n",
            "Requirement already satisfied: scipy in /usr/local/lib/python3.11/dist-packages (from cirq-core==0.13.0->cirq==0.13.0) (1.15.3)\n",
            "Requirement already satisfied: sortedcontainers~=2.0 in /usr/local/lib/python3.11/dist-packages (from cirq-core==0.13.0->cirq==0.13.0) (2.4.0)\n",
            "Requirement already satisfied: sympy in /usr/local/lib/python3.11/dist-packages (from cirq-core==0.13.0->cirq==0.13.0) (1.12)\n",
            "Requirement already satisfied: tqdm in /usr/local/lib/python3.11/dist-packages (from cirq-core==0.13.0->cirq==0.13.0) (4.67.1)\n",
            "Requirement already satisfied: typing-extensions in /usr/local/lib/python3.11/dist-packages (from cirq-core==0.13.0->cirq==0.13.0) (4.13.2)\n",
            "Collecting google-api-core<2.0.0dev,>=1.14.0 (from google-api-core[grpc]<2.0.0dev,>=1.14.0->cirq-google==0.13.0->cirq==0.13.0)\n",
            "  Downloading google_api_core-1.34.1-py3-none-any.whl.metadata (2.4 kB)\n",
            "Requirement already satisfied: protobuf>=3.13.0 in /usr/local/lib/python3.11/dist-packages (from cirq-google==0.13.0->cirq==0.13.0) (5.29.4)\n",
            "Collecting attrs~=20.3.0 (from cirq-rigetti==0.13.0->cirq==0.13.0)\n",
            "  Downloading attrs-20.3.0-py2.py3-none-any.whl.metadata (10 kB)\n",
            "Collecting certifi~=2021.5.30 (from cirq-rigetti==0.13.0->cirq==0.13.0)\n",
            "  Downloading certifi-2021.5.30-py2.py3-none-any.whl.metadata (3.0 kB)\n",
            "Collecting h11~=0.9.0 (from cirq-rigetti==0.13.0->cirq==0.13.0)\n",
            "  Downloading h11-0.9.0-py2.py3-none-any.whl.metadata (8.1 kB)\n",
            "Collecting httpcore~=0.11.1 (from cirq-rigetti==0.13.0->cirq==0.13.0)\n",
            "  Downloading httpcore-0.11.1-py3-none-any.whl.metadata (8.8 kB)\n",
            "Collecting httpx~=0.15.5 (from cirq-rigetti==0.13.0->cirq==0.13.0)\n",
            "  Downloading httpx-0.15.5-py3-none-any.whl.metadata (37 kB)\n",
            "Collecting idna~=2.10 (from cirq-rigetti==0.13.0->cirq==0.13.0)\n",
            "  Downloading idna-2.10-py2.py3-none-any.whl.metadata (9.1 kB)\n",
            "Collecting iso8601~=0.1.14 (from cirq-rigetti==0.13.0->cirq==0.13.0)\n",
            "  Downloading iso8601-0.1.16-py2.py3-none-any.whl.metadata (8.6 kB)\n",
            "Collecting pydantic~=1.8.2 (from cirq-rigetti==0.13.0->cirq==0.13.0)\n",
            "  Downloading pydantic-1.8.2-py3-none-any.whl.metadata (103 kB)\n",
            "\u001b[2K     \u001b[90m━━━━━━━━━━━━━━━━━━━━━━━━━━━━━━━━━━━━━━━\u001b[0m \u001b[32m103.1/103.1 kB\u001b[0m \u001b[31m7.0 MB/s\u001b[0m eta \u001b[36m0:00:00\u001b[0m\n",
            "\u001b[?25hCollecting pyjwt~=1.7.1 (from cirq-rigetti==0.13.0->cirq==0.13.0)\n",
            "  Downloading PyJWT-1.7.1-py2.py3-none-any.whl.metadata (3.9 kB)\n",
            "Collecting python-dateutil~=2.8.1 (from cirq-rigetti==0.13.0->cirq==0.13.0)\n",
            "  Downloading python_dateutil-2.8.2-py2.py3-none-any.whl.metadata (8.2 kB)\n",
            "Collecting qcs-api-client~=0.8.0 (from cirq-rigetti==0.13.0->cirq==0.13.0)\n",
            "  Downloading qcs_api_client-0.8.0-py3-none-any.whl.metadata (1.7 kB)\n",
            "Requirement already satisfied: retrying~=1.3.3 in /usr/local/lib/python3.11/dist-packages (from cirq-rigetti==0.13.0->cirq==0.13.0) (1.3.4)\n",
            "Requirement already satisfied: rfc3339~=6.2 in /usr/local/lib/python3.11/dist-packages (from cirq-rigetti==0.13.0->cirq==0.13.0) (6.2)\n",
            "Requirement already satisfied: rfc3986~=1.5.0 in /usr/local/lib/python3.11/dist-packages (from cirq-rigetti==0.13.0->cirq==0.13.0) (1.5.0)\n",
            "Collecting six~=1.16.0 (from cirq-rigetti==0.13.0->cirq==0.13.0)\n",
            "  Downloading six-1.16.0-py2.py3-none-any.whl.metadata (1.8 kB)\n",
            "Collecting sniffio~=1.2.0 (from cirq-rigetti==0.13.0->cirq==0.13.0)\n",
            "  Downloading sniffio-1.2.0-py3-none-any.whl.metadata (3.6 kB)\n",
            "Requirement already satisfied: toml~=0.10.2 in /usr/local/lib/python3.11/dist-packages (from cirq-rigetti==0.13.0->cirq==0.13.0) (0.10.2)\n",
            "Collecting pyquil~=3.0.0 (from cirq-rigetti==0.13.0->cirq==0.13.0)\n",
            "  Downloading pyquil-3.0.1-py3-none-any.whl.metadata (10 kB)\n",
            "Requirement already satisfied: googleapis-common-protos<2.0dev,>=1.56.2 in /usr/local/lib/python3.11/dist-packages (from google-api-core<2.0.0dev,>=1.14.0->google-api-core[grpc]<2.0.0dev,>=1.14.0->cirq-google==0.13.0->cirq==0.13.0) (1.70.0)\n",
            "Collecting protobuf>=3.13.0 (from cirq-google==0.13.0->cirq==0.13.0)\n",
            "  Downloading protobuf-3.20.3-py2.py3-none-any.whl.metadata (720 bytes)\n",
            "Requirement already satisfied: google-auth<3.0dev,>=1.25.0 in /usr/local/lib/python3.11/dist-packages (from google-api-core<2.0.0dev,>=1.14.0->google-api-core[grpc]<2.0.0dev,>=1.14.0->cirq-google==0.13.0->cirq==0.13.0) (2.38.0)\n",
            "Requirement already satisfied: grpcio<2.0dev,>=1.33.2 in /usr/local/lib/python3.11/dist-packages (from google-api-core[grpc]<2.0.0dev,>=1.14.0->cirq-google==0.13.0->cirq==0.13.0) (1.71.0)\n",
            "Requirement already satisfied: grpcio-status<2.0dev,>=1.33.2 in /usr/local/lib/python3.11/dist-packages (from google-api-core[grpc]<2.0.0dev,>=1.14.0->cirq-google==0.13.0->cirq==0.13.0) (1.71.0)\n",
            "Requirement already satisfied: contourpy>=1.0.1 in /usr/local/lib/python3.11/dist-packages (from matplotlib~=3.0->cirq-core==0.13.0->cirq==0.13.0) (1.3.2)\n",
            "Requirement already satisfied: cycler>=0.10 in /usr/local/lib/python3.11/dist-packages (from matplotlib~=3.0->cirq-core==0.13.0->cirq==0.13.0) (0.12.1)\n",
            "Requirement already satisfied: fonttools>=4.22.0 in /usr/local/lib/python3.11/dist-packages (from matplotlib~=3.0->cirq-core==0.13.0->cirq==0.13.0) (4.57.0)\n",
            "Requirement already satisfied: kiwisolver>=1.3.1 in /usr/local/lib/python3.11/dist-packages (from matplotlib~=3.0->cirq-core==0.13.0->cirq==0.13.0) (1.4.8)\n",
            "Requirement already satisfied: packaging>=20.0 in /usr/local/lib/python3.11/dist-packages (from matplotlib~=3.0->cirq-core==0.13.0->cirq==0.13.0) (24.2)\n",
            "Requirement already satisfied: pillow>=8 in /usr/local/lib/python3.11/dist-packages (from matplotlib~=3.0->cirq-core==0.13.0->cirq==0.13.0) (11.2.1)\n",
            "Requirement already satisfied: pyparsing>=2.3.1 in /usr/local/lib/python3.11/dist-packages (from matplotlib~=3.0->cirq-core==0.13.0->cirq==0.13.0) (3.2.3)\n",
            "Requirement already satisfied: lark<0.12.0,>=0.11.1 in /usr/local/lib/python3.11/dist-packages (from pyquil~=3.0.0->cirq-rigetti==0.13.0->cirq==0.13.0) (0.11.3)\n",
            "Collecting retry<0.10.0,>=0.9.2 (from pyquil~=3.0.0->cirq-rigetti==0.13.0->cirq==0.13.0)\n",
            "  Downloading retry-0.9.2-py2.py3-none-any.whl.metadata (5.8 kB)\n",
            "Requirement already satisfied: rpcq<4.0.0,>=3.6.0 in /usr/local/lib/python3.11/dist-packages (from pyquil~=3.0.0->cirq-rigetti==0.13.0->cirq==0.13.0) (3.11.0)\n",
            "Requirement already satisfied: charset-normalizer<4,>=2 in /usr/local/lib/python3.11/dist-packages (from requests~=2.18->cirq-aqt==0.13.0->cirq==0.13.0) (3.4.2)\n",
            "Requirement already satisfied: urllib3<3,>=1.21.1 in /usr/local/lib/python3.11/dist-packages (from requests~=2.18->cirq-aqt==0.13.0->cirq==0.13.0) (2.4.0)\n",
            "Requirement already satisfied: pytz>=2020.1 in /usr/local/lib/python3.11/dist-packages (from pandas->cirq-core==0.13.0->cirq==0.13.0) (2025.2)\n",
            "Requirement already satisfied: tzdata>=2022.7 in /usr/local/lib/python3.11/dist-packages (from pandas->cirq-core==0.13.0->cirq==0.13.0) (2025.2)\n",
            "Requirement already satisfied: mpmath>=0.19 in /usr/local/lib/python3.11/dist-packages (from sympy->cirq-core==0.13.0->cirq==0.13.0) (1.3.0)\n",
            "Requirement already satisfied: cachetools<6.0,>=2.0.0 in /usr/local/lib/python3.11/dist-packages (from google-auth<3.0dev,>=1.25.0->google-api-core<2.0.0dev,>=1.14.0->google-api-core[grpc]<2.0.0dev,>=1.14.0->cirq-google==0.13.0->cirq==0.13.0) (5.5.2)\n",
            "Requirement already satisfied: pyasn1-modules>=0.2.1 in /usr/local/lib/python3.11/dist-packages (from google-auth<3.0dev,>=1.25.0->google-api-core<2.0.0dev,>=1.14.0->google-api-core[grpc]<2.0.0dev,>=1.14.0->cirq-google==0.13.0->cirq==0.13.0) (0.4.2)\n",
            "Requirement already satisfied: rsa<5,>=3.1.4 in /usr/local/lib/python3.11/dist-packages (from google-auth<3.0dev,>=1.25.0->google-api-core<2.0.0dev,>=1.14.0->google-api-core[grpc]<2.0.0dev,>=1.14.0->cirq-google==0.13.0->cirq==0.13.0) (4.9.1)\n",
            "INFO: pip is looking at multiple versions of grpcio-status to determine which version is compatible with other requirements. This could take a while.\n",
            "Collecting grpcio-status<2.0dev,>=1.33.2 (from google-api-core[grpc]<2.0.0dev,>=1.14.0->cirq-google==0.13.0->cirq==0.13.0)\n",
            "  Downloading grpcio_status-1.70.0-py3-none-any.whl.metadata (1.1 kB)\n",
            "  Downloading grpcio_status-1.69.0-py3-none-any.whl.metadata (1.1 kB)\n",
            "  Downloading grpcio_status-1.68.1-py3-none-any.whl.metadata (1.1 kB)\n",
            "  Downloading grpcio_status-1.68.0-py3-none-any.whl.metadata (1.1 kB)\n",
            "  Downloading grpcio_status-1.67.1-py3-none-any.whl.metadata (1.1 kB)\n",
            "  Downloading grpcio_status-1.67.0-py3-none-any.whl.metadata (1.1 kB)\n",
            "  Downloading grpcio_status-1.66.2-py3-none-any.whl.metadata (1.1 kB)\n",
            "INFO: pip is still looking at multiple versions of grpcio-status to determine which version is compatible with other requirements. This could take a while.\n",
            "  Downloading grpcio_status-1.66.1-py3-none-any.whl.metadata (1.1 kB)\n",
            "  Downloading grpcio_status-1.66.0-py3-none-any.whl.metadata (1.1 kB)\n",
            "  Downloading grpcio_status-1.65.5-py3-none-any.whl.metadata (1.1 kB)\n",
            "  Downloading grpcio_status-1.65.4-py3-none-any.whl.metadata (1.1 kB)\n",
            "  Downloading grpcio_status-1.65.2-py3-none-any.whl.metadata (1.1 kB)\n",
            "INFO: This is taking longer than usual. You might need to provide the dependency resolver with stricter constraints to reduce runtime. See https://pip.pypa.io/warnings/backtracking for guidance. If you want to abort this run, press Ctrl + C.\n",
            "  Downloading grpcio_status-1.65.1-py3-none-any.whl.metadata (1.1 kB)\n",
            "  Downloading grpcio_status-1.64.3-py3-none-any.whl.metadata (1.1 kB)\n",
            "  Downloading grpcio_status-1.64.1-py3-none-any.whl.metadata (1.1 kB)\n",
            "  Downloading grpcio_status-1.64.0-py3-none-any.whl.metadata (1.1 kB)\n",
            "  Downloading grpcio_status-1.63.2-py3-none-any.whl.metadata (1.1 kB)\n",
            "  Downloading grpcio_status-1.63.0-py3-none-any.whl.metadata (1.1 kB)\n",
            "  Downloading grpcio_status-1.62.3-py3-none-any.whl.metadata (1.3 kB)\n",
            "  Downloading grpcio_status-1.62.2-py3-none-any.whl.metadata (1.3 kB)\n",
            "  Downloading grpcio_status-1.62.1-py3-none-any.whl.metadata (1.3 kB)\n",
            "  Downloading grpcio_status-1.62.0-py3-none-any.whl.metadata (1.3 kB)\n",
            "  Downloading grpcio_status-1.61.3-py3-none-any.whl.metadata (1.3 kB)\n",
            "  Downloading grpcio_status-1.60.2-py3-none-any.whl.metadata (1.3 kB)\n",
            "  Downloading grpcio_status-1.60.1-py3-none-any.whl.metadata (1.3 kB)\n",
            "  Downloading grpcio_status-1.60.0-py3-none-any.whl.metadata (1.3 kB)\n",
            "  Downloading grpcio_status-1.59.5-py3-none-any.whl.metadata (1.3 kB)\n",
            "  Downloading grpcio_status-1.59.3-py3-none-any.whl.metadata (1.3 kB)\n",
            "  Downloading grpcio_status-1.59.2-py3-none-any.whl.metadata (1.3 kB)\n",
            "  Downloading grpcio_status-1.59.0-py3-none-any.whl.metadata (1.3 kB)\n",
            "  Downloading grpcio_status-1.58.3-py3-none-any.whl.metadata (1.3 kB)\n",
            "  Downloading grpcio_status-1.58.0-py3-none-any.whl.metadata (1.3 kB)\n",
            "  Downloading grpcio_status-1.57.0-py3-none-any.whl.metadata (1.2 kB)\n",
            "  Downloading grpcio_status-1.56.2-py3-none-any.whl.metadata (1.3 kB)\n",
            "  Downloading grpcio_status-1.56.0-py3-none-any.whl.metadata (1.3 kB)\n",
            "  Downloading grpcio_status-1.55.3-py3-none-any.whl.metadata (1.3 kB)\n",
            "  Downloading grpcio_status-1.54.3-py3-none-any.whl.metadata (1.3 kB)\n",
            "  Downloading grpcio_status-1.54.2-py3-none-any.whl.metadata (1.3 kB)\n",
            "  Downloading grpcio_status-1.54.0-py3-none-any.whl.metadata (1.3 kB)\n",
            "  Downloading grpcio_status-1.53.2-py3-none-any.whl.metadata (1.3 kB)\n",
            "  Downloading grpcio_status-1.53.1-py3-none-any.whl.metadata (1.3 kB)\n",
            "  Downloading grpcio_status-1.53.0-py3-none-any.whl.metadata (1.3 kB)\n",
            "  Downloading grpcio_status-1.51.3-py3-none-any.whl.metadata (1.3 kB)\n",
            "  Downloading grpcio_status-1.51.1-py3-none-any.whl.metadata (1.3 kB)\n",
            "  Downloading grpcio_status-1.50.0-py3-none-any.whl.metadata (1.3 kB)\n",
            "  Downloading grpcio_status-1.49.1-py3-none-any.whl.metadata (1.3 kB)\n",
            "  Downloading grpcio_status-1.48.2-py3-none-any.whl.metadata (1.2 kB)\n",
            "Requirement already satisfied: decorator>=3.4.2 in /usr/local/lib/python3.11/dist-packages (from retry<0.10.0,>=0.9.2->pyquil~=3.0.0->cirq-rigetti==0.13.0->cirq==0.13.0) (4.4.2)\n",
            "Collecting py<2.0.0,>=1.4.26 (from retry<0.10.0,>=0.9.2->pyquil~=3.0.0->cirq-rigetti==0.13.0->cirq==0.13.0)\n",
            "  Downloading py-1.11.0-py2.py3-none-any.whl.metadata (2.8 kB)\n",
            "Requirement already satisfied: msgpack<2.0,>=0.6 in /usr/local/lib/python3.11/dist-packages (from rpcq<4.0.0,>=3.6.0->pyquil~=3.0.0->cirq-rigetti==0.13.0->cirq==0.13.0) (1.1.0)\n",
            "Requirement already satisfied: python-rapidjson in /usr/local/lib/python3.11/dist-packages (from rpcq<4.0.0,>=3.6.0->pyquil~=3.0.0->cirq-rigetti==0.13.0->cirq==0.13.0) (1.20)\n",
            "Requirement already satisfied: pyzmq>=17 in /usr/local/lib/python3.11/dist-packages (from rpcq<4.0.0,>=3.6.0->pyquil~=3.0.0->cirq-rigetti==0.13.0->cirq==0.13.0) (24.0.1)\n",
            "Requirement already satisfied: ruamel.yaml in /usr/local/lib/python3.11/dist-packages (from rpcq<4.0.0,>=3.6.0->pyquil~=3.0.0->cirq-rigetti==0.13.0->cirq==0.13.0) (0.18.10)\n",
            "Requirement already satisfied: pyasn1<0.7.0,>=0.6.1 in /usr/local/lib/python3.11/dist-packages (from pyasn1-modules>=0.2.1->google-auth<3.0dev,>=1.25.0->google-api-core<2.0.0dev,>=1.14.0->google-api-core[grpc]<2.0.0dev,>=1.14.0->cirq-google==0.13.0->cirq==0.13.0) (0.6.1)\n",
            "Requirement already satisfied: ruamel.yaml.clib>=0.2.7 in /usr/local/lib/python3.11/dist-packages (from ruamel.yaml->rpcq<4.0.0,>=3.6.0->pyquil~=3.0.0->cirq-rigetti==0.13.0->cirq==0.13.0) (0.2.12)\n",
            "Downloading cirq-0.13.0-py3-none-any.whl (7.7 kB)\n",
            "Downloading cirq_aqt-0.13.0-py3-none-any.whl (18 kB)\n",
            "Downloading cirq_core-0.13.0-py3-none-any.whl (1.6 MB)\n",
            "\u001b[2K   \u001b[90m━━━━━━━━━━━━━━━━━━━━━━━━━━━━━━━━━━━━━━━━\u001b[0m \u001b[32m1.6/1.6 MB\u001b[0m \u001b[31m46.4 MB/s\u001b[0m eta \u001b[36m0:00:00\u001b[0m\n",
            "\u001b[?25hDownloading cirq_google-0.13.0-py3-none-any.whl (437 kB)\n",
            "\u001b[2K   \u001b[90m━━━━━━━━━━━━━━━━━━━━━━━━━━━━━━━━━━━━━━━━\u001b[0m \u001b[32m437.1/437.1 kB\u001b[0m \u001b[31m26.6 MB/s\u001b[0m eta \u001b[36m0:00:00\u001b[0m\n",
            "\u001b[?25hDownloading cirq_ionq-0.13.0-py3-none-any.whl (47 kB)\n",
            "\u001b[2K   \u001b[90m━━━━━━━━━━━━━━━━━━━━━━━━━━━━━━━━━━━━━━━━\u001b[0m \u001b[32m47.5/47.5 kB\u001b[0m \u001b[31m4.2 MB/s\u001b[0m eta \u001b[36m0:00:00\u001b[0m\n",
            "\u001b[?25hDownloading cirq_pasqal-0.13.0-py3-none-any.whl (29 kB)\n",
            "Downloading cirq_rigetti-0.13.0-py3-none-any.whl (55 kB)\n",
            "\u001b[2K   \u001b[90m━━━━━━━━━━━━━━━━━━━━━━━━━━━━━━━━━━━━━━━━\u001b[0m \u001b[32m55.8/55.8 kB\u001b[0m \u001b[31m5.0 MB/s\u001b[0m eta \u001b[36m0:00:00\u001b[0m\n",
            "\u001b[?25hDownloading cirq_web-0.13.0-py3-none-any.whl (328 kB)\n",
            "\u001b[2K   \u001b[90m━━━━━━━━━━━━━━━━━━━━━━━━━━━━━━━━━━━━━━━━\u001b[0m \u001b[32m328.3/328.3 kB\u001b[0m \u001b[31m25.3 MB/s\u001b[0m eta \u001b[36m0:00:00\u001b[0m\n",
            "\u001b[?25hDownloading attrs-20.3.0-py2.py3-none-any.whl (49 kB)\n",
            "\u001b[2K   \u001b[90m━━━━━━━━━━━━━━━━━━━━━━━━━━━━━━━━━━━━━━━━\u001b[0m \u001b[32m49.3/49.3 kB\u001b[0m \u001b[31m4.1 MB/s\u001b[0m eta \u001b[36m0:00:00\u001b[0m\n",
            "\u001b[?25hDownloading certifi-2021.5.30-py2.py3-none-any.whl (145 kB)\n",
            "\u001b[2K   \u001b[90m━━━━━━━━━━━━━━━━━━━━━━━━━━━━━━━━━━━━━━━━\u001b[0m \u001b[32m145.5/145.5 kB\u001b[0m \u001b[31m12.5 MB/s\u001b[0m eta \u001b[36m0:00:00\u001b[0m\n",
            "\u001b[?25hDownloading google_api_core-1.34.1-py3-none-any.whl (120 kB)\n",
            "\u001b[2K   \u001b[90m━━━━━━━━━━━━━━━━━━━━━━━━━━━━━━━━━━━━━━━━\u001b[0m \u001b[32m120.4/120.4 kB\u001b[0m \u001b[31m10.2 MB/s\u001b[0m eta \u001b[36m0:00:00\u001b[0m\n",
            "\u001b[?25hDownloading h11-0.9.0-py2.py3-none-any.whl (53 kB)\n",
            "\u001b[2K   \u001b[90m━━━━━━━━━━━━━━━━━━━━━━━━━━━━━━━━━━━━━━━━\u001b[0m \u001b[32m53.6/53.6 kB\u001b[0m \u001b[31m4.7 MB/s\u001b[0m eta \u001b[36m0:00:00\u001b[0m\n",
            "\u001b[?25hDownloading httpcore-0.11.1-py3-none-any.whl (52 kB)\n",
            "\u001b[2K   \u001b[90m━━━━━━━━━━━━━━━━━━━━━━━━━━━━━━━━━━━━━━━━\u001b[0m \u001b[32m52.8/52.8 kB\u001b[0m \u001b[31m4.7 MB/s\u001b[0m eta \u001b[36m0:00:00\u001b[0m\n",
            "\u001b[?25hDownloading sniffio-1.2.0-py3-none-any.whl (10 kB)\n",
            "Downloading httpx-0.15.5-py3-none-any.whl (65 kB)\n",
            "\u001b[2K   \u001b[90m━━━━━━━━━━━━━━━━━━━━━━━━━━━━━━━━━━━━━━━━\u001b[0m \u001b[32m65.1/65.1 kB\u001b[0m \u001b[31m6.1 MB/s\u001b[0m eta \u001b[36m0:00:00\u001b[0m\n",
            "\u001b[?25hDownloading idna-2.10-py2.py3-none-any.whl (58 kB)\n",
            "\u001b[2K   \u001b[90m━━━━━━━━━━━━━━━━━━━━━━━━━━━━━━━━━━━━━━━━\u001b[0m \u001b[32m58.8/58.8 kB\u001b[0m \u001b[31m5.3 MB/s\u001b[0m eta \u001b[36m0:00:00\u001b[0m\n",
            "\u001b[?25hDownloading iso8601-0.1.16-py2.py3-none-any.whl (10 kB)\n",
            "Downloading networkx-2.8.8-py3-none-any.whl (2.0 MB)\n",
            "\u001b[2K   \u001b[90m━━━━━━━━━━━━━━━━━━━━━━━━━━━━━━━━━━━━━━━━\u001b[0m \u001b[32m2.0/2.0 MB\u001b[0m \u001b[31m59.9 MB/s\u001b[0m eta \u001b[36m0:00:00\u001b[0m\n",
            "\u001b[?25hUsing cached numpy-1.26.4-cp311-cp311-manylinux_2_17_x86_64.manylinux2014_x86_64.whl (18.3 MB)\n",
            "Downloading protobuf-3.20.3-py2.py3-none-any.whl (162 kB)\n",
            "\u001b[2K   \u001b[90m━━━━━━━━━━━━━━━━━━━━━━━━━━━━━━━━━━━━━━━━\u001b[0m \u001b[32m162.1/162.1 kB\u001b[0m \u001b[31m12.9 MB/s\u001b[0m eta \u001b[36m0:00:00\u001b[0m\n",
            "\u001b[?25hDownloading pydantic-1.8.2-py3-none-any.whl (126 kB)\n",
            "\u001b[2K   \u001b[90m━━━━━━━━━━━━━━━━━━━━━━━━━━━━━━━━━━━━━━━━\u001b[0m \u001b[32m126.0/126.0 kB\u001b[0m \u001b[31m11.0 MB/s\u001b[0m eta \u001b[36m0:00:00\u001b[0m\n",
            "\u001b[?25hDownloading PyJWT-1.7.1-py2.py3-none-any.whl (18 kB)\n",
            "Downloading pyquil-3.0.1-py3-none-any.whl (220 kB)\n",
            "\u001b[2K   \u001b[90m━━━━━━━━━━━━━━━━━━━━━━━━━━━━━━━━━━━━━━━━\u001b[0m \u001b[32m220.7/220.7 kB\u001b[0m \u001b[31m13.5 MB/s\u001b[0m eta \u001b[36m0:00:00\u001b[0m\n",
            "\u001b[?25hDownloading python_dateutil-2.8.2-py2.py3-none-any.whl (247 kB)\n",
            "\u001b[2K   \u001b[90m━━━━━━━━━━━━━━━━━━━━━━━━━━━━━━━━━━━━━━━━\u001b[0m \u001b[32m247.7/247.7 kB\u001b[0m \u001b[31m14.4 MB/s\u001b[0m eta \u001b[36m0:00:00\u001b[0m\n",
            "\u001b[?25hDownloading qcs_api_client-0.8.0-py3-none-any.whl (97 kB)\n",
            "\u001b[2K   \u001b[90m━━━━━━━━━━━━━━━━━━━━━━━━━━━━━━━━━━━━━━━━\u001b[0m \u001b[32m97.3/97.3 kB\u001b[0m \u001b[31m7.3 MB/s\u001b[0m eta \u001b[36m0:00:00\u001b[0m\n",
            "\u001b[?25hDownloading six-1.16.0-py2.py3-none-any.whl (11 kB)\n",
            "Downloading grpcio_status-1.48.2-py3-none-any.whl (14 kB)\n",
            "Downloading retry-0.9.2-py2.py3-none-any.whl (8.0 kB)\n",
            "Downloading py-1.11.0-py2.py3-none-any.whl (98 kB)\n",
            "\u001b[2K   \u001b[90m━━━━━━━━━━━━━━━━━━━━━━━━━━━━━━━━━━━━━━━━\u001b[0m \u001b[32m98.7/98.7 kB\u001b[0m \u001b[31m7.4 MB/s\u001b[0m eta \u001b[36m0:00:00\u001b[0m\n",
            "\u001b[?25hInstalling collected packages: pyjwt, iso8601, h11, certifi, sniffio, six, pydantic, py, protobuf, numpy, networkx, idna, attrs, retry, python-dateutil, httpcore, httpx, grpcio-status, google-api-core, qcs-api-client, cirq-core, pyquil, cirq-web, cirq-pasqal, cirq-ionq, cirq-google, cirq-aqt, cirq-rigetti, cirq\n",
            "  Attempting uninstall: pyjwt\n",
            "    Found existing installation: PyJWT 2.10.1\n",
            "    Uninstalling PyJWT-2.10.1:\n",
            "      Successfully uninstalled PyJWT-2.10.1\n",
            "  Attempting uninstall: iso8601\n",
            "    Found existing installation: iso8601 1.1.0\n",
            "    Uninstalling iso8601-1.1.0:\n",
            "      Successfully uninstalled iso8601-1.1.0\n",
            "  Attempting uninstall: h11\n",
            "    Found existing installation: h11 0.14.0\n",
            "    Uninstalling h11-0.14.0:\n",
            "      Successfully uninstalled h11-0.14.0\n",
            "  Attempting uninstall: certifi\n",
            "    Found existing installation: certifi 2025.4.26\n",
            "    Uninstalling certifi-2025.4.26:\n",
            "      Successfully uninstalled certifi-2025.4.26\n",
            "  Attempting uninstall: sniffio\n",
            "    Found existing installation: sniffio 1.3.1\n",
            "    Uninstalling sniffio-1.3.1:\n",
            "      Successfully uninstalled sniffio-1.3.1\n",
            "  Attempting uninstall: six\n",
            "    Found existing installation: six 1.17.0\n",
            "    Uninstalling six-1.17.0:\n",
            "      Successfully uninstalled six-1.17.0\n",
            "  Attempting uninstall: pydantic\n",
            "    Found existing installation: pydantic 1.10.22\n",
            "    Uninstalling pydantic-1.10.22:\n",
            "      Successfully uninstalled pydantic-1.10.22\n",
            "  Attempting uninstall: protobuf\n",
            "    Found existing installation: protobuf 5.29.4\n",
            "    Uninstalling protobuf-5.29.4:\n",
            "      Successfully uninstalled protobuf-5.29.4\n",
            "  Attempting uninstall: networkx\n",
            "    Found existing installation: networkx 3.4.2\n",
            "    Uninstalling networkx-3.4.2:\n",
            "      Successfully uninstalled networkx-3.4.2\n",
            "  Attempting uninstall: idna\n",
            "    Found existing installation: idna 3.10\n",
            "    Uninstalling idna-3.10:\n",
            "      Successfully uninstalled idna-3.10\n",
            "  Attempting uninstall: attrs\n",
            "    Found existing installation: attrs 21.4.0\n",
            "    Uninstalling attrs-21.4.0:\n",
            "      Successfully uninstalled attrs-21.4.0\n",
            "  Attempting uninstall: python-dateutil\n",
            "    Found existing installation: python-dateutil 2.9.0.post0\n",
            "    Uninstalling python-dateutil-2.9.0.post0:\n",
            "      Successfully uninstalled python-dateutil-2.9.0.post0\n",
            "  Attempting uninstall: httpcore\n",
            "    Found existing installation: httpcore 0.16.3\n",
            "    Uninstalling httpcore-0.16.3:\n",
            "      Successfully uninstalled httpcore-0.16.3\n",
            "  Attempting uninstall: httpx\n",
            "    Found existing installation: httpx 0.23.3\n",
            "    Uninstalling httpx-0.23.3:\n",
            "      Successfully uninstalled httpx-0.23.3\n",
            "  Attempting uninstall: grpcio-status\n",
            "    Found existing installation: grpcio-status 1.71.0\n",
            "    Uninstalling grpcio-status-1.71.0:\n",
            "      Successfully uninstalled grpcio-status-1.71.0\n",
            "  Attempting uninstall: google-api-core\n",
            "    Found existing installation: google-api-core 2.24.2\n",
            "    Uninstalling google-api-core-2.24.2:\n",
            "      Successfully uninstalled google-api-core-2.24.2\n",
            "  Attempting uninstall: qcs-api-client\n",
            "    Found existing installation: qcs-api-client 0.21.6\n",
            "    Uninstalling qcs-api-client-0.21.6:\n",
            "      Successfully uninstalled qcs-api-client-0.21.6\n",
            "  Attempting uninstall: cirq-core\n",
            "    Found existing installation: cirq-core 1.3.0\n",
            "    Uninstalling cirq-core-1.3.0:\n",
            "      Successfully uninstalled cirq-core-1.3.0\n",
            "  Attempting uninstall: pyquil\n",
            "    Found existing installation: pyquil 3.5.4\n",
            "    Uninstalling pyquil-3.5.4:\n",
            "      Successfully uninstalled pyquil-3.5.4\n",
            "  Attempting uninstall: cirq-web\n",
            "    Found existing installation: cirq-web 1.3.0\n",
            "    Uninstalling cirq-web-1.3.0:\n",
            "      Successfully uninstalled cirq-web-1.3.0\n",
            "  Attempting uninstall: cirq-pasqal\n",
            "    Found existing installation: cirq-pasqal 1.3.0\n",
            "    Uninstalling cirq-pasqal-1.3.0:\n",
            "      Successfully uninstalled cirq-pasqal-1.3.0\n",
            "  Attempting uninstall: cirq-ionq\n",
            "    Found existing installation: cirq-ionq 1.3.0\n",
            "    Uninstalling cirq-ionq-1.3.0:\n",
            "      Successfully uninstalled cirq-ionq-1.3.0\n",
            "  Attempting uninstall: cirq-google\n",
            "    Found existing installation: cirq-google 1.3.0\n",
            "    Uninstalling cirq-google-1.3.0:\n",
            "      Successfully uninstalled cirq-google-1.3.0\n",
            "  Attempting uninstall: cirq-aqt\n",
            "    Found existing installation: cirq-aqt 1.3.0\n",
            "    Uninstalling cirq-aqt-1.3.0:\n",
            "      Successfully uninstalled cirq-aqt-1.3.0\n",
            "  Attempting uninstall: cirq-rigetti\n",
            "    Found existing installation: cirq-rigetti 1.3.0\n",
            "    Uninstalling cirq-rigetti-1.3.0:\n",
            "      Successfully uninstalled cirq-rigetti-1.3.0\n",
            "\u001b[31mERROR: pip's dependency resolver does not currently take into account all the packages that are installed. This behaviour is the source of the following dependency conflicts.\n",
            "tensorflow-decision-forests 1.11.0 requires tensorflow==2.18.0, which is not installed.\n",
            "dopamine-rl 4.1.2 requires tensorflow>=2.2.0, which is not installed.\n",
            "typedunits 0.0.1.dev20250509200845 requires protobuf>=4.25, but you have protobuf 3.20.3 which is incompatible.\n",
            "cirq-ft 1.3.0 requires cirq-core==1.3.0, but you have cirq-core 0.13.0 which is incompatible.\n",
            "torch 2.6.0+cu124 requires nvidia-cublas-cu12==12.4.5.8; platform_system == \"Linux\" and platform_machine == \"x86_64\", but you have nvidia-cublas-cu12 12.5.3.2 which is incompatible.\n",
            "torch 2.6.0+cu124 requires nvidia-cuda-cupti-cu12==12.4.127; platform_system == \"Linux\" and platform_machine == \"x86_64\", but you have nvidia-cuda-cupti-cu12 12.5.82 which is incompatible.\n",
            "torch 2.6.0+cu124 requires nvidia-cuda-nvrtc-cu12==12.4.127; platform_system == \"Linux\" and platform_machine == \"x86_64\", but you have nvidia-cuda-nvrtc-cu12 12.5.82 which is incompatible.\n",
            "torch 2.6.0+cu124 requires nvidia-cuda-runtime-cu12==12.4.127; platform_system == \"Linux\" and platform_machine == \"x86_64\", but you have nvidia-cuda-runtime-cu12 12.5.82 which is incompatible.\n",
            "torch 2.6.0+cu124 requires nvidia-cudnn-cu12==9.1.0.70; platform_system == \"Linux\" and platform_machine == \"x86_64\", but you have nvidia-cudnn-cu12 9.3.0.75 which is incompatible.\n",
            "torch 2.6.0+cu124 requires nvidia-cufft-cu12==11.2.1.3; platform_system == \"Linux\" and platform_machine == \"x86_64\", but you have nvidia-cufft-cu12 11.2.3.61 which is incompatible.\n",
            "torch 2.6.0+cu124 requires nvidia-curand-cu12==10.3.5.147; platform_system == \"Linux\" and platform_machine == \"x86_64\", but you have nvidia-curand-cu12 10.3.6.82 which is incompatible.\n",
            "torch 2.6.0+cu124 requires nvidia-cusolver-cu12==11.6.1.9; platform_system == \"Linux\" and platform_machine == \"x86_64\", but you have nvidia-cusolver-cu12 11.6.3.83 which is incompatible.\n",
            "torch 2.6.0+cu124 requires nvidia-cusparse-cu12==12.3.1.170; platform_system == \"Linux\" and platform_machine == \"x86_64\", but you have nvidia-cusparse-cu12 12.5.1.3 which is incompatible.\n",
            "torch 2.6.0+cu124 requires nvidia-nvjitlink-cu12==12.4.127; platform_system == \"Linux\" and platform_machine == \"x86_64\", but you have nvidia-nvjitlink-cu12 12.5.82 which is incompatible.\n",
            "torch 2.6.0+cu124 requires sympy==1.13.1; python_version >= \"3.9\", but you have sympy 1.12 which is incompatible.\n",
            "dataproc-spark-connect 0.7.3 requires google-api-core>=2.19, but you have google-api-core 1.34.1 which is incompatible.\n",
            "scikit-image 0.25.2 requires networkx>=3.0, but you have networkx 2.8.8 which is incompatible.\n",
            "langchain 0.3.25 requires pydantic<3.0.0,>=2.7.4, but you have pydantic 1.8.2 which is incompatible.\n",
            "pandas-gbq 0.28.0 requires google-api-core<3.0.0dev,>=2.10.2, but you have google-api-core 1.34.1 which is incompatible.\n",
            "google-cloud-bigtable 2.30.1 requires google-api-core[grpc]<3.0.0,>=2.16.0, but you have google-api-core 1.34.1 which is incompatible.\n",
            "google-cloud-storage 2.19.0 requires google-api-core<3.0.0dev,>=2.15.0, but you have google-api-core 1.34.1 which is incompatible.\n",
            "langsmith 0.3.42 requires httpx<1,>=0.23.0, but you have httpx 0.15.5 which is incompatible.\n",
            "nx-cugraph-cu12 25.2.0 requires networkx>=3.2, but you have networkx 2.8.8 which is incompatible.\n",
            "firebase-admin 6.8.0 requires pyjwt[crypto]>=2.5.0, but you have pyjwt 1.7.1 which is incompatible.\n",
            "albumentations 2.0.6 requires pydantic>=2.9.2, but you have pydantic 1.8.2 which is incompatible.\n",
            "google-cloud-bigquery 3.31.0 requires google-api-core[grpc]<3.0.0,>=2.11.1, but you have google-api-core 1.34.1 which is incompatible.\n",
            "langchain-core 0.3.59 requires pydantic<3.0.0,>=2.5.2; python_full_version < \"3.12.4\", but you have pydantic 1.8.2 which is incompatible.\n",
            "openai 1.78.0 requires httpx<1,>=0.23.0, but you have httpx 0.15.5 which is incompatible.\n",
            "openai 1.78.0 requires pydantic<3,>=1.9.0, but you have pydantic 1.8.2 which is incompatible.\n",
            "referencing 0.36.2 requires attrs>=22.2.0, but you have attrs 20.3.0 which is incompatible.\n",
            "tensorflow-metadata 1.17.1 requires protobuf<6.0.0,>=4.25.2; python_version >= \"3.11\", but you have protobuf 3.20.3 which is incompatible.\n",
            "yfinance 0.2.59 requires protobuf<6,>=5.29.0, but you have protobuf 3.20.3 which is incompatible.\n",
            "thinc 8.3.6 requires numpy<3.0.0,>=2.0.0, but you have numpy 1.26.4 which is incompatible.\n",
            "thinc 8.3.6 requires pydantic<3.0.0,>=2.0.0, but you have pydantic 1.8.2 which is incompatible.\n",
            "google-genai 1.14.0 requires httpx<1.0.0,>=0.28.1, but you have httpx 0.15.5 which is incompatible.\n",
            "google-genai 1.14.0 requires pydantic<3.0.0,>=2.0.0, but you have pydantic 1.8.2 which is incompatible.\n",
            "ydf 0.11.0 requires protobuf<6.0.0,>=5.29.1, but you have protobuf 3.20.3 which is incompatible.\n",
            "curl-cffi 0.10.0 requires certifi>=2024.2.2, but you have certifi 2021.5.30 which is incompatible.\u001b[0m\u001b[31m\n",
            "\u001b[0mSuccessfully installed attrs-20.3.0 certifi-2021.5.30 cirq-0.13.0 cirq-aqt-0.13.0 cirq-core-0.13.0 cirq-google-0.13.0 cirq-ionq-0.13.0 cirq-pasqal-0.13.0 cirq-rigetti-0.13.0 cirq-web-0.13.0 google-api-core-1.34.1 grpcio-status-1.48.2 h11-0.9.0 httpcore-0.11.1 httpx-0.15.5 idna-2.10 iso8601-0.1.16 networkx-2.8.8 numpy-1.26.4 protobuf-3.20.3 py-1.11.0 pydantic-1.8.2 pyjwt-1.7.1 pyquil-3.0.1 python-dateutil-2.8.2 qcs-api-client-0.8.0 retry-0.9.2 six-1.16.0 sniffio-1.2.0\n"
          ]
        },
        {
          "output_type": "display_data",
          "data": {
            "application/vnd.colab-display-data+json": {
              "pip_warning": {
                "packages": [
                  "attr",
                  "certifi",
                  "cirq",
                  "dateutil",
                  "google",
                  "idna",
                  "networkx",
                  "six"
                ]
              },
              "id": "7d3b276a049446298dc4a4df1a2a1e59"
            }
          },
          "metadata": {}
        },
        {
          "output_type": "stream",
          "name": "stdout",
          "text": [
            "\u001b[31mERROR: Ignored the following versions that require a different python version: 1.21.2 Requires-Python >=3.7,<3.11; 1.21.3 Requires-Python >=3.7,<3.11; 1.21.4 Requires-Python >=3.7,<3.11; 1.21.5 Requires-Python >=3.7,<3.11; 1.21.6 Requires-Python >=3.7,<3.11\u001b[0m\u001b[31m\n",
            "\u001b[0m\u001b[31mERROR: Could not find a version that satisfies the requirement numpy==1.21.6 (from versions: 1.3.0, 1.4.1, 1.5.0, 1.5.1, 1.6.0, 1.6.1, 1.6.2, 1.7.0, 1.7.1, 1.7.2, 1.8.0, 1.8.1, 1.8.2, 1.9.0, 1.9.1, 1.9.2, 1.9.3, 1.10.0.post2, 1.10.1, 1.10.2, 1.10.4, 1.11.0, 1.11.1, 1.11.2, 1.11.3, 1.12.0, 1.12.1, 1.13.0, 1.13.1, 1.13.3, 1.14.0, 1.14.1, 1.14.2, 1.14.3, 1.14.4, 1.14.5, 1.14.6, 1.15.0, 1.15.1, 1.15.2, 1.15.3, 1.15.4, 1.16.0, 1.16.1, 1.16.2, 1.16.3, 1.16.4, 1.16.5, 1.16.6, 1.17.0, 1.17.1, 1.17.2, 1.17.3, 1.17.4, 1.17.5, 1.18.0, 1.18.1, 1.18.2, 1.18.3, 1.18.4, 1.18.5, 1.19.0, 1.19.1, 1.19.2, 1.19.3, 1.19.4, 1.19.5, 1.20.0, 1.20.1, 1.20.2, 1.20.3, 1.21.0, 1.21.1, 1.22.0, 1.22.1, 1.22.2, 1.22.3, 1.22.4, 1.23.0, 1.23.1, 1.23.2, 1.23.3, 1.23.4, 1.23.5, 1.24.0, 1.24.1, 1.24.2, 1.24.3, 1.24.4, 1.25.0, 1.25.1, 1.25.2, 1.26.0, 1.26.1, 1.26.2, 1.26.3, 1.26.4, 2.0.0, 2.0.1, 2.0.2, 2.1.0rc1, 2.1.0, 2.1.1, 2.1.2, 2.1.3, 2.2.0rc1, 2.2.0, 2.2.1, 2.2.2, 2.2.3, 2.2.4, 2.2.5)\u001b[0m\u001b[31m\n",
            "\u001b[0m\u001b[31mERROR: No matching distribution found for numpy==1.21.6\u001b[0m\u001b[31m\n",
            "\u001b[0m"
          ]
        }
      ]
    },
    {
      "cell_type": "markdown",
      "metadata": {
        "id": "4E3JNaVwu-SX"
      },
      "source": [
        "## Importing the dataset and required packages"
      ]
    },
    {
      "cell_type": "code",
      "source": [
        "!pip install tensorflow==2.15.0  # Newer stable version\n",
        "!pip install tensorflow-quantum==0.7.3  # Latest available"
      ],
      "metadata": {
        "colab": {
          "base_uri": "https://localhost:8080/"
        },
        "id": "-cQ22Mr25gCi",
        "outputId": "d29ecb48-f689-4ca6-8ce6-630bbae5cd1b"
      },
      "execution_count": null,
      "outputs": [
        {
          "output_type": "stream",
          "name": "stdout",
          "text": [
            "Collecting tensorflow==2.15.0\n",
            "  Downloading tensorflow-2.15.0-cp311-cp311-manylinux_2_17_x86_64.manylinux2014_x86_64.whl.metadata (4.4 kB)\n",
            "Requirement already satisfied: absl-py>=1.0.0 in /usr/local/lib/python3.11/dist-packages (from tensorflow==2.15.0) (1.4.0)\n",
            "Requirement already satisfied: astunparse>=1.6.0 in /usr/local/lib/python3.11/dist-packages (from tensorflow==2.15.0) (1.6.3)\n",
            "Requirement already satisfied: flatbuffers>=23.5.26 in /usr/local/lib/python3.11/dist-packages (from tensorflow==2.15.0) (25.2.10)\n",
            "Requirement already satisfied: gast!=0.5.0,!=0.5.1,!=0.5.2,>=0.2.1 in /usr/local/lib/python3.11/dist-packages (from tensorflow==2.15.0) (0.6.0)\n",
            "Requirement already satisfied: google-pasta>=0.1.1 in /usr/local/lib/python3.11/dist-packages (from tensorflow==2.15.0) (0.2.0)\n",
            "Requirement already satisfied: h5py>=2.9.0 in /usr/local/lib/python3.11/dist-packages (from tensorflow==2.15.0) (3.13.0)\n",
            "Requirement already satisfied: libclang>=13.0.0 in /usr/local/lib/python3.11/dist-packages (from tensorflow==2.15.0) (18.1.1)\n",
            "Collecting ml-dtypes~=0.2.0 (from tensorflow==2.15.0)\n",
            "  Downloading ml_dtypes-0.2.0-cp311-cp311-manylinux_2_17_x86_64.manylinux2014_x86_64.whl.metadata (20 kB)\n",
            "Requirement already satisfied: numpy<2.0.0,>=1.23.5 in /usr/local/lib/python3.11/dist-packages (from tensorflow==2.15.0) (1.26.4)\n",
            "Requirement already satisfied: opt-einsum>=2.3.2 in /usr/local/lib/python3.11/dist-packages (from tensorflow==2.15.0) (3.4.0)\n",
            "Requirement already satisfied: packaging in /usr/local/lib/python3.11/dist-packages (from tensorflow==2.15.0) (24.2)\n",
            "Requirement already satisfied: protobuf!=4.21.0,!=4.21.1,!=4.21.2,!=4.21.3,!=4.21.4,!=4.21.5,<5.0.0dev,>=3.20.3 in /usr/local/lib/python3.11/dist-packages (from tensorflow==2.15.0) (3.20.3)\n",
            "Requirement already satisfied: setuptools in /usr/local/lib/python3.11/dist-packages (from tensorflow==2.15.0) (75.2.0)\n",
            "Requirement already satisfied: six>=1.12.0 in /usr/local/lib/python3.11/dist-packages (from tensorflow==2.15.0) (1.16.0)\n",
            "Requirement already satisfied: termcolor>=1.1.0 in /usr/local/lib/python3.11/dist-packages (from tensorflow==2.15.0) (3.1.0)\n",
            "Requirement already satisfied: typing-extensions>=3.6.6 in /usr/local/lib/python3.11/dist-packages (from tensorflow==2.15.0) (4.13.2)\n",
            "Collecting wrapt<1.15,>=1.11.0 (from tensorflow==2.15.0)\n",
            "  Downloading wrapt-1.14.1-cp311-cp311-manylinux_2_5_x86_64.manylinux1_x86_64.manylinux_2_17_x86_64.manylinux2014_x86_64.whl.metadata (6.7 kB)\n",
            "Requirement already satisfied: tensorflow-io-gcs-filesystem>=0.23.1 in /usr/local/lib/python3.11/dist-packages (from tensorflow==2.15.0) (0.37.1)\n",
            "Requirement already satisfied: grpcio<2.0,>=1.24.3 in /usr/local/lib/python3.11/dist-packages (from tensorflow==2.15.0) (1.71.0)\n",
            "Collecting tensorboard<2.16,>=2.15 (from tensorflow==2.15.0)\n",
            "  Downloading tensorboard-2.15.2-py3-none-any.whl.metadata (1.7 kB)\n",
            "Collecting tensorflow-estimator<2.16,>=2.15.0 (from tensorflow==2.15.0)\n",
            "  Downloading tensorflow_estimator-2.15.0-py2.py3-none-any.whl.metadata (1.3 kB)\n",
            "Collecting keras<2.16,>=2.15.0 (from tensorflow==2.15.0)\n",
            "  Downloading keras-2.15.0-py3-none-any.whl.metadata (2.4 kB)\n",
            "Requirement already satisfied: wheel<1.0,>=0.23.0 in /usr/local/lib/python3.11/dist-packages (from astunparse>=1.6.0->tensorflow==2.15.0) (0.45.1)\n",
            "Requirement already satisfied: google-auth<3,>=1.6.3 in /usr/local/lib/python3.11/dist-packages (from tensorboard<2.16,>=2.15->tensorflow==2.15.0) (2.38.0)\n",
            "Requirement already satisfied: google-auth-oauthlib<2,>=0.5 in /usr/local/lib/python3.11/dist-packages (from tensorboard<2.16,>=2.15->tensorflow==2.15.0) (1.2.2)\n",
            "Requirement already satisfied: markdown>=2.6.8 in /usr/local/lib/python3.11/dist-packages (from tensorboard<2.16,>=2.15->tensorflow==2.15.0) (3.8)\n",
            "Requirement already satisfied: requests<3,>=2.21.0 in /usr/local/lib/python3.11/dist-packages (from tensorboard<2.16,>=2.15->tensorflow==2.15.0) (2.32.3)\n",
            "Requirement already satisfied: tensorboard-data-server<0.8.0,>=0.7.0 in /usr/local/lib/python3.11/dist-packages (from tensorboard<2.16,>=2.15->tensorflow==2.15.0) (0.7.2)\n",
            "Requirement already satisfied: werkzeug>=1.0.1 in /usr/local/lib/python3.11/dist-packages (from tensorboard<2.16,>=2.15->tensorflow==2.15.0) (3.1.3)\n",
            "Requirement already satisfied: cachetools<6.0,>=2.0.0 in /usr/local/lib/python3.11/dist-packages (from google-auth<3,>=1.6.3->tensorboard<2.16,>=2.15->tensorflow==2.15.0) (5.5.2)\n",
            "Requirement already satisfied: pyasn1-modules>=0.2.1 in /usr/local/lib/python3.11/dist-packages (from google-auth<3,>=1.6.3->tensorboard<2.16,>=2.15->tensorflow==2.15.0) (0.4.2)\n",
            "Requirement already satisfied: rsa<5,>=3.1.4 in /usr/local/lib/python3.11/dist-packages (from google-auth<3,>=1.6.3->tensorboard<2.16,>=2.15->tensorflow==2.15.0) (4.9.1)\n",
            "Requirement already satisfied: requests-oauthlib>=0.7.0 in /usr/local/lib/python3.11/dist-packages (from google-auth-oauthlib<2,>=0.5->tensorboard<2.16,>=2.15->tensorflow==2.15.0) (2.0.0)\n",
            "Requirement already satisfied: charset-normalizer<4,>=2 in /usr/local/lib/python3.11/dist-packages (from requests<3,>=2.21.0->tensorboard<2.16,>=2.15->tensorflow==2.15.0) (3.4.2)\n",
            "Requirement already satisfied: idna<4,>=2.5 in /usr/local/lib/python3.11/dist-packages (from requests<3,>=2.21.0->tensorboard<2.16,>=2.15->tensorflow==2.15.0) (2.10)\n",
            "Requirement already satisfied: urllib3<3,>=1.21.1 in /usr/local/lib/python3.11/dist-packages (from requests<3,>=2.21.0->tensorboard<2.16,>=2.15->tensorflow==2.15.0) (2.4.0)\n",
            "Requirement already satisfied: certifi>=2017.4.17 in /usr/local/lib/python3.11/dist-packages (from requests<3,>=2.21.0->tensorboard<2.16,>=2.15->tensorflow==2.15.0) (2021.5.30)\n",
            "Requirement already satisfied: MarkupSafe>=2.1.1 in /usr/local/lib/python3.11/dist-packages (from werkzeug>=1.0.1->tensorboard<2.16,>=2.15->tensorflow==2.15.0) (3.0.2)\n",
            "Requirement already satisfied: pyasn1<0.7.0,>=0.6.1 in /usr/local/lib/python3.11/dist-packages (from pyasn1-modules>=0.2.1->google-auth<3,>=1.6.3->tensorboard<2.16,>=2.15->tensorflow==2.15.0) (0.6.1)\n",
            "Requirement already satisfied: oauthlib>=3.0.0 in /usr/local/lib/python3.11/dist-packages (from requests-oauthlib>=0.7.0->google-auth-oauthlib<2,>=0.5->tensorboard<2.16,>=2.15->tensorflow==2.15.0) (3.2.2)\n",
            "Downloading tensorflow-2.15.0-cp311-cp311-manylinux_2_17_x86_64.manylinux2014_x86_64.whl (475.3 MB)\n",
            "\u001b[2K   \u001b[90m━━━━━━━━━━━━━━━━━━━━━━━━━━━━━━━━━━━━━━━━\u001b[0m \u001b[32m475.3/475.3 MB\u001b[0m \u001b[31m3.4 MB/s\u001b[0m eta \u001b[36m0:00:00\u001b[0m\n",
            "\u001b[?25hDownloading keras-2.15.0-py3-none-any.whl (1.7 MB)\n",
            "\u001b[2K   \u001b[90m━━━━━━━━━━━━━━━━━━━━━━━━━━━━━━━━━━━━━━━━\u001b[0m \u001b[32m1.7/1.7 MB\u001b[0m \u001b[31m52.2 MB/s\u001b[0m eta \u001b[36m0:00:00\u001b[0m\n",
            "\u001b[?25hDownloading ml_dtypes-0.2.0-cp311-cp311-manylinux_2_17_x86_64.manylinux2014_x86_64.whl (1.0 MB)\n",
            "\u001b[2K   \u001b[90m━━━━━━━━━━━━━━━━━━━━━━━━━━━━━━━━━━━━━━━━\u001b[0m \u001b[32m1.0/1.0 MB\u001b[0m \u001b[31m40.5 MB/s\u001b[0m eta \u001b[36m0:00:00\u001b[0m\n",
            "\u001b[?25hDownloading tensorboard-2.15.2-py3-none-any.whl (5.5 MB)\n",
            "\u001b[2K   \u001b[90m━━━━━━━━━━━━━━━━━━━━━━━━━━━━━━━━━━━━━━━━\u001b[0m \u001b[32m5.5/5.5 MB\u001b[0m \u001b[31m69.0 MB/s\u001b[0m eta \u001b[36m0:00:00\u001b[0m\n",
            "\u001b[?25hDownloading tensorflow_estimator-2.15.0-py2.py3-none-any.whl (441 kB)\n",
            "\u001b[2K   \u001b[90m━━━━━━━━━━━━━━━━━━━━━━━━━━━━━━━━━━━━━━━━\u001b[0m \u001b[32m442.0/442.0 kB\u001b[0m \u001b[31m15.7 MB/s\u001b[0m eta \u001b[36m0:00:00\u001b[0m\n",
            "\u001b[?25hDownloading wrapt-1.14.1-cp311-cp311-manylinux_2_5_x86_64.manylinux1_x86_64.manylinux_2_17_x86_64.manylinux2014_x86_64.whl (78 kB)\n",
            "\u001b[2K   \u001b[90m━━━━━━━━━━━━━━━━━━━━━━━━━━━━━━━━━━━━━━━━\u001b[0m \u001b[32m78.4/78.4 kB\u001b[0m \u001b[31m6.3 MB/s\u001b[0m eta \u001b[36m0:00:00\u001b[0m\n",
            "\u001b[?25hInstalling collected packages: wrapt, tensorflow-estimator, ml-dtypes, keras, tensorboard, tensorflow\n",
            "  Attempting uninstall: wrapt\n",
            "    Found existing installation: wrapt 1.17.2\n",
            "    Uninstalling wrapt-1.17.2:\n",
            "      Successfully uninstalled wrapt-1.17.2\n",
            "  Attempting uninstall: ml-dtypes\n",
            "    Found existing installation: ml_dtypes 0.5.1\n",
            "    Uninstalling ml_dtypes-0.5.1:\n",
            "      Successfully uninstalled ml_dtypes-0.5.1\n",
            "  Attempting uninstall: keras\n",
            "    Found existing installation: keras 3.8.0\n",
            "    Uninstalling keras-3.8.0:\n",
            "      Successfully uninstalled keras-3.8.0\n",
            "  Attempting uninstall: tensorboard\n",
            "    Found existing installation: tensorboard 2.19.0\n",
            "    Uninstalling tensorboard-2.19.0:\n",
            "      Successfully uninstalled tensorboard-2.19.0\n",
            "\u001b[31mERROR: pip's dependency resolver does not currently take into account all the packages that are installed. This behaviour is the source of the following dependency conflicts.\n",
            "jax 0.5.2 requires ml_dtypes>=0.4.0, but you have ml-dtypes 0.2.0 which is incompatible.\n",
            "tensorflow-text 2.18.1 requires tensorflow<2.19,>=2.18.0, but you have tensorflow 2.15.0 which is incompatible.\n",
            "tensorstore 0.1.74 requires ml_dtypes>=0.3.1, but you have ml-dtypes 0.2.0 which is incompatible.\n",
            "tensorflow-decision-forests 1.11.0 requires tensorflow==2.18.0, but you have tensorflow 2.15.0 which is incompatible.\n",
            "tf-keras 2.18.0 requires tensorflow<2.19,>=2.18, but you have tensorflow 2.15.0 which is incompatible.\u001b[0m\u001b[31m\n",
            "\u001b[0mSuccessfully installed keras-2.15.0 ml-dtypes-0.2.0 tensorboard-2.15.2 tensorflow-2.15.0 tensorflow-estimator-2.15.0 wrapt-1.14.1\n",
            "Collecting tensorflow-quantum==0.7.3\n",
            "  Using cached tensorflow_quantum-0.7.3-cp311-cp311-manylinux_2_17_x86_64.manylinux2014_x86_64.whl.metadata (1.7 kB)\n",
            "Collecting cirq-core==1.3.0 (from tensorflow-quantum==0.7.3)\n",
            "  Using cached cirq_core-1.3.0-py3-none-any.whl.metadata (1.9 kB)\n",
            "Collecting cirq-google==1.3.0 (from tensorflow-quantum==0.7.3)\n",
            "  Using cached cirq_google-1.3.0-py3-none-any.whl.metadata (2.0 kB)\n",
            "Requirement already satisfied: sympy==1.12 in /usr/local/lib/python3.11/dist-packages (from tensorflow-quantum==0.7.3) (1.12)\n",
            "Requirement already satisfied: duet~=0.2.8 in /usr/local/lib/python3.11/dist-packages (from cirq-core==1.3.0->tensorflow-quantum==0.7.3) (0.2.9)\n",
            "Requirement already satisfied: matplotlib~=3.0 in /usr/local/lib/python3.11/dist-packages (from cirq-core==1.3.0->tensorflow-quantum==0.7.3) (3.10.0)\n",
            "Requirement already satisfied: networkx>=2.4 in /usr/local/lib/python3.11/dist-packages (from cirq-core==1.3.0->tensorflow-quantum==0.7.3) (2.8.8)\n",
            "Requirement already satisfied: numpy~=1.16 in /usr/local/lib/python3.11/dist-packages (from cirq-core==1.3.0->tensorflow-quantum==0.7.3) (1.26.4)\n",
            "Requirement already satisfied: pandas in /usr/local/lib/python3.11/dist-packages (from cirq-core==1.3.0->tensorflow-quantum==0.7.3) (2.2.2)\n",
            "Requirement already satisfied: sortedcontainers~=2.0 in /usr/local/lib/python3.11/dist-packages (from cirq-core==1.3.0->tensorflow-quantum==0.7.3) (2.4.0)\n",
            "Requirement already satisfied: scipy in /usr/local/lib/python3.11/dist-packages (from cirq-core==1.3.0->tensorflow-quantum==0.7.3) (1.15.3)\n",
            "Requirement already satisfied: typing-extensions>=4.2 in /usr/local/lib/python3.11/dist-packages (from cirq-core==1.3.0->tensorflow-quantum==0.7.3) (4.13.2)\n",
            "Requirement already satisfied: tqdm in /usr/local/lib/python3.11/dist-packages (from cirq-core==1.3.0->tensorflow-quantum==0.7.3) (4.67.1)\n",
            "Requirement already satisfied: google-api-core>=1.14.0 in /usr/local/lib/python3.11/dist-packages (from google-api-core[grpc]>=1.14.0->cirq-google==1.3.0->tensorflow-quantum==0.7.3) (1.34.1)\n",
            "Requirement already satisfied: proto-plus>=1.20.0 in /usr/local/lib/python3.11/dist-packages (from cirq-google==1.3.0->tensorflow-quantum==0.7.3) (1.26.1)\n",
            "Requirement already satisfied: protobuf>=3.15.0 in /usr/local/lib/python3.11/dist-packages (from cirq-google==1.3.0->tensorflow-quantum==0.7.3) (3.20.3)\n",
            "Requirement already satisfied: mpmath>=0.19 in /usr/local/lib/python3.11/dist-packages (from sympy==1.12->tensorflow-quantum==0.7.3) (1.3.0)\n",
            "Requirement already satisfied: googleapis-common-protos<2.0dev,>=1.56.2 in /usr/local/lib/python3.11/dist-packages (from google-api-core>=1.14.0->google-api-core[grpc]>=1.14.0->cirq-google==1.3.0->tensorflow-quantum==0.7.3) (1.70.0)\n",
            "Requirement already satisfied: google-auth<3.0dev,>=1.25.0 in /usr/local/lib/python3.11/dist-packages (from google-api-core>=1.14.0->google-api-core[grpc]>=1.14.0->cirq-google==1.3.0->tensorflow-quantum==0.7.3) (2.38.0)\n",
            "Requirement already satisfied: requests<3.0.0dev,>=2.18.0 in /usr/local/lib/python3.11/dist-packages (from google-api-core>=1.14.0->google-api-core[grpc]>=1.14.0->cirq-google==1.3.0->tensorflow-quantum==0.7.3) (2.32.3)\n",
            "Requirement already satisfied: grpcio<2.0dev,>=1.33.2 in /usr/local/lib/python3.11/dist-packages (from google-api-core[grpc]>=1.14.0->cirq-google==1.3.0->tensorflow-quantum==0.7.3) (1.71.0)\n",
            "Requirement already satisfied: grpcio-status<2.0dev,>=1.33.2 in /usr/local/lib/python3.11/dist-packages (from google-api-core[grpc]>=1.14.0->cirq-google==1.3.0->tensorflow-quantum==0.7.3) (1.48.2)\n",
            "Requirement already satisfied: contourpy>=1.0.1 in /usr/local/lib/python3.11/dist-packages (from matplotlib~=3.0->cirq-core==1.3.0->tensorflow-quantum==0.7.3) (1.3.2)\n",
            "Requirement already satisfied: cycler>=0.10 in /usr/local/lib/python3.11/dist-packages (from matplotlib~=3.0->cirq-core==1.3.0->tensorflow-quantum==0.7.3) (0.12.1)\n",
            "Requirement already satisfied: fonttools>=4.22.0 in /usr/local/lib/python3.11/dist-packages (from matplotlib~=3.0->cirq-core==1.3.0->tensorflow-quantum==0.7.3) (4.57.0)\n",
            "Requirement already satisfied: kiwisolver>=1.3.1 in /usr/local/lib/python3.11/dist-packages (from matplotlib~=3.0->cirq-core==1.3.0->tensorflow-quantum==0.7.3) (1.4.8)\n",
            "Requirement already satisfied: packaging>=20.0 in /usr/local/lib/python3.11/dist-packages (from matplotlib~=3.0->cirq-core==1.3.0->tensorflow-quantum==0.7.3) (24.2)\n",
            "Requirement already satisfied: pillow>=8 in /usr/local/lib/python3.11/dist-packages (from matplotlib~=3.0->cirq-core==1.3.0->tensorflow-quantum==0.7.3) (11.2.1)\n",
            "Requirement already satisfied: pyparsing>=2.3.1 in /usr/local/lib/python3.11/dist-packages (from matplotlib~=3.0->cirq-core==1.3.0->tensorflow-quantum==0.7.3) (3.2.3)\n",
            "Requirement already satisfied: python-dateutil>=2.7 in /usr/local/lib/python3.11/dist-packages (from matplotlib~=3.0->cirq-core==1.3.0->tensorflow-quantum==0.7.3) (2.8.2)\n",
            "Requirement already satisfied: pytz>=2020.1 in /usr/local/lib/python3.11/dist-packages (from pandas->cirq-core==1.3.0->tensorflow-quantum==0.7.3) (2025.2)\n",
            "Requirement already satisfied: tzdata>=2022.7 in /usr/local/lib/python3.11/dist-packages (from pandas->cirq-core==1.3.0->tensorflow-quantum==0.7.3) (2025.2)\n",
            "Requirement already satisfied: cachetools<6.0,>=2.0.0 in /usr/local/lib/python3.11/dist-packages (from google-auth<3.0dev,>=1.25.0->google-api-core>=1.14.0->google-api-core[grpc]>=1.14.0->cirq-google==1.3.0->tensorflow-quantum==0.7.3) (5.5.2)\n",
            "Requirement already satisfied: pyasn1-modules>=0.2.1 in /usr/local/lib/python3.11/dist-packages (from google-auth<3.0dev,>=1.25.0->google-api-core>=1.14.0->google-api-core[grpc]>=1.14.0->cirq-google==1.3.0->tensorflow-quantum==0.7.3) (0.4.2)\n",
            "Requirement already satisfied: rsa<5,>=3.1.4 in /usr/local/lib/python3.11/dist-packages (from google-auth<3.0dev,>=1.25.0->google-api-core>=1.14.0->google-api-core[grpc]>=1.14.0->cirq-google==1.3.0->tensorflow-quantum==0.7.3) (4.9.1)\n",
            "Requirement already satisfied: six>=1.5 in /usr/local/lib/python3.11/dist-packages (from python-dateutil>=2.7->matplotlib~=3.0->cirq-core==1.3.0->tensorflow-quantum==0.7.3) (1.16.0)\n",
            "Requirement already satisfied: charset-normalizer<4,>=2 in /usr/local/lib/python3.11/dist-packages (from requests<3.0.0dev,>=2.18.0->google-api-core>=1.14.0->google-api-core[grpc]>=1.14.0->cirq-google==1.3.0->tensorflow-quantum==0.7.3) (3.4.2)\n",
            "Requirement already satisfied: idna<4,>=2.5 in /usr/local/lib/python3.11/dist-packages (from requests<3.0.0dev,>=2.18.0->google-api-core>=1.14.0->google-api-core[grpc]>=1.14.0->cirq-google==1.3.0->tensorflow-quantum==0.7.3) (2.10)\n",
            "Requirement already satisfied: urllib3<3,>=1.21.1 in /usr/local/lib/python3.11/dist-packages (from requests<3.0.0dev,>=2.18.0->google-api-core>=1.14.0->google-api-core[grpc]>=1.14.0->cirq-google==1.3.0->tensorflow-quantum==0.7.3) (2.4.0)\n",
            "Requirement already satisfied: certifi>=2017.4.17 in /usr/local/lib/python3.11/dist-packages (from requests<3.0.0dev,>=2.18.0->google-api-core>=1.14.0->google-api-core[grpc]>=1.14.0->cirq-google==1.3.0->tensorflow-quantum==0.7.3) (2021.5.30)\n",
            "Requirement already satisfied: pyasn1<0.7.0,>=0.6.1 in /usr/local/lib/python3.11/dist-packages (from pyasn1-modules>=0.2.1->google-auth<3.0dev,>=1.25.0->google-api-core>=1.14.0->google-api-core[grpc]>=1.14.0->cirq-google==1.3.0->tensorflow-quantum==0.7.3) (0.6.1)\n",
            "Using cached tensorflow_quantum-0.7.3-cp311-cp311-manylinux_2_17_x86_64.manylinux2014_x86_64.whl (12.8 MB)\n",
            "Using cached cirq_core-1.3.0-py3-none-any.whl (1.8 MB)\n",
            "Using cached cirq_google-1.3.0-py3-none-any.whl (598 kB)\n",
            "Installing collected packages: cirq-core, cirq-google, tensorflow-quantum\n",
            "  Attempting uninstall: cirq-core\n",
            "    Found existing installation: cirq-core 0.13.0\n",
            "    Uninstalling cirq-core-0.13.0:\n",
            "      Successfully uninstalled cirq-core-0.13.0\n",
            "  Attempting uninstall: cirq-google\n",
            "    Found existing installation: cirq-google 0.13.0\n",
            "    Uninstalling cirq-google-0.13.0:\n",
            "      Successfully uninstalled cirq-google-0.13.0\n",
            "\u001b[31mERROR: pip's dependency resolver does not currently take into account all the packages that are installed. This behaviour is the source of the following dependency conflicts.\n",
            "cirq-rigetti 0.13.0 requires cirq-core==0.13.0, but you have cirq-core 1.3.0 which is incompatible.\n",
            "cirq-web 0.13.0 requires cirq-core==0.13.0, but you have cirq-core 1.3.0 which is incompatible.\n",
            "cirq-ionq 0.13.0 requires cirq-core==0.13.0, but you have cirq-core 1.3.0 which is incompatible.\n",
            "cirq-pasqal 0.13.0 requires cirq-core==0.13.0, but you have cirq-core 1.3.0 which is incompatible.\n",
            "cirq-aqt 0.13.0 requires cirq-core==0.13.0, but you have cirq-core 1.3.0 which is incompatible.\n",
            "cirq 0.13.0 requires cirq-core==0.13.0, but you have cirq-core 1.3.0 which is incompatible.\n",
            "cirq 0.13.0 requires cirq-google==0.13.0, but you have cirq-google 1.3.0 which is incompatible.\u001b[0m\u001b[31m\n",
            "\u001b[0mSuccessfully installed cirq-core-1.3.0 cirq-google-1.3.0 tensorflow-quantum-0.7.3\n"
          ]
        }
      ]
    },
    {
      "cell_type": "code",
      "execution_count": null,
      "metadata": {
        "id": "otBjLV4ovAqm"
      },
      "outputs": [],
      "source": [
        "import tensorflow as tf\n",
        "\n",
        "# Data Processing tools\n",
        "import numpy as np\n",
        "from sklearn.model_selection import train_test_split\n",
        "\n",
        "# QML tools\n",
        "import tensorflow_quantum as tfq\n",
        "import cirq\n",
        "import sympy\n",
        "\n",
        "# Visualization Tools\n",
        "from cirq.contrib.svg import SVGCircuit\n",
        "import matplotlib.pyplot as plt"
      ]
    },
    {
      "cell_type": "code",
      "execution_count": null,
      "metadata": {
        "colab": {
          "base_uri": "https://localhost:8080/"
        },
        "id": "MxejhA8Iumpu",
        "outputId": "415d658b-c483-42f5-c950-88707e13274f"
      },
      "outputs": [
        {
          "output_type": "stream",
          "name": "stdout",
          "text": [
            "We are using the TensorFlow-Quantum version 0.7.2\n",
            "We are using the Cirq version 1.3.0\n"
          ]
        }
      ],
      "source": [
        "#Lets print the version of cirq and tfq that we will use\n",
        "print(\"We are using the TensorFlow-Quantum version {}\".format(tfq.__version__))\n",
        "print(\"We are using the Cirq version {}\".format(cirq.__version__))"
      ]
    },
    {
      "cell_type": "code",
      "execution_count": null,
      "metadata": {
        "id": "nvAb6_0xnBRX"
      },
      "outputs": [],
      "source": [
        "#importing the Fashion MNIST dataset from keras\n",
        "from tensorflow.keras.datasets import fashion_mnist as dataset"
      ]
    },
    {
      "cell_type": "code",
      "execution_count": null,
      "metadata": {
        "id": "7_xF9rR-rNFz",
        "colab": {
          "base_uri": "https://localhost:8080/"
        },
        "outputId": "2bca0421-8c96-43c9-a15c-7039c64ad331"
      },
      "outputs": [
        {
          "output_type": "stream",
          "name": "stdout",
          "text": [
            "Downloading data from https://storage.googleapis.com/tensorflow/tf-keras-datasets/train-labels-idx1-ubyte.gz\n",
            "29515/29515 [==============================] - 0s 0us/step\n",
            "Downloading data from https://storage.googleapis.com/tensorflow/tf-keras-datasets/train-images-idx3-ubyte.gz\n",
            "26421880/26421880 [==============================] - 0s 0us/step\n",
            "Downloading data from https://storage.googleapis.com/tensorflow/tf-keras-datasets/t10k-labels-idx1-ubyte.gz\n",
            "5148/5148 [==============================] - 0s 0us/step\n",
            "Downloading data from https://storage.googleapis.com/tensorflow/tf-keras-datasets/t10k-images-idx3-ubyte.gz\n",
            "4422102/4422102 [==============================] - 0s 0us/step\n"
          ]
        }
      ],
      "source": [
        "(X_train, y_train), (X_test, y_test) = dataset.load_data()"
      ]
    },
    {
      "cell_type": "code",
      "source": [],
      "metadata": {
        "id": "8XQVDtZ95-OM"
      },
      "execution_count": null,
      "outputs": []
    },
    {
      "cell_type": "code",
      "execution_count": null,
      "metadata": {
        "colab": {
          "base_uri": "https://localhost:8080/"
        },
        "id": "kFlj0AvvrqIW",
        "outputId": "56e43fd8-0bb7-4356-fa19-b3907431c954"
      },
      "outputs": [
        {
          "output_type": "stream",
          "name": "stdout",
          "text": [
            "The shape of the X_train is (60000, 28, 28)\n",
            "The shape of the y_train is (60000,)\n",
            "The shape of the X_test is (10000, 28, 28)\n",
            "The shape of the y_test is (10000,)\n"
          ]
        }
      ],
      "source": [
        "print(\"The shape of the X_train is {}\".format( X_train.shape))\n",
        "print(\"The shape of the y_train is {}\".format(y_train.shape))\n",
        "print(\"The shape of the X_test is {}\".format(X_test.shape))\n",
        "print(\"The shape of the y_test is {}\".format(y_test.shape))"
      ]
    },
    {
      "cell_type": "markdown",
      "metadata": {
        "id": "jDyH0wwXwCOK"
      },
      "source": [
        "## Preprocessing the Dataset"
      ]
    },
    {
      "cell_type": "code",
      "execution_count": null,
      "metadata": {
        "id": "3z2lgVw1wELa"
      },
      "outputs": [],
      "source": [
        "def filter_data(x, y):\n",
        "  \"\"\"\n",
        "  Helper Function to filter the dataset\n",
        "  \"\"\"\n",
        "  #filter the data using labels\n",
        "  keep = (y == 5) | (y == 9)\n",
        "  x, y = x[keep], y[keep]\n",
        "\n",
        "  # convert labels to boolean\n",
        "  # y = True if y==5\n",
        "  # y = False if y==9\n",
        "  y = y == 5\n",
        "  return x,y"
      ]
    },
    {
      "cell_type": "code",
      "execution_count": null,
      "metadata": {
        "id": "jQHzPIhA6og7"
      },
      "outputs": [],
      "source": [
        "#Filter the train set\n",
        "X_train, y_train = filter_data(X_train, y_train)\n",
        "\n",
        "#Filter the test_set\n",
        "X_test, y_test = filter_data(X_test, y_test)"
      ]
    },
    {
      "cell_type": "code",
      "execution_count": null,
      "metadata": {
        "colab": {
          "base_uri": "https://localhost:8080/"
        },
        "id": "DU7rvKtu-CSu",
        "outputId": "8c6fe12f-8243-4e58-ca64-1e2c8ad616cb"
      },
      "outputs": [
        {
          "output_type": "stream",
          "name": "stdout",
          "text": [
            "The shape of the X_train is (12000, 28, 28)\n",
            "The shape of the y_train is (12000,)\n",
            "The shape of the X_test is (2000, 28, 28)\n",
            "The shape of the y_test is (2000,)\n"
          ]
        }
      ],
      "source": [
        "# Let's have a look at the shapes of train and test data\n",
        "print(\"The shape of the X_train is {}\".format( X_train.shape))\n",
        "print(\"The shape of the y_train is {}\".format(y_train.shape))\n",
        "print(\"The shape of the X_test is {}\".format(X_test.shape))\n",
        "print(\"The shape of the y_test is {}\".format(y_test.shape))"
      ]
    },
    {
      "cell_type": "code",
      "execution_count": null,
      "metadata": {
        "colab": {
          "base_uri": "https://localhost:8080/",
          "height": 469
        },
        "id": "Ymg4FvbDsmbO",
        "outputId": "744239a8-41a1-4616-ee77-d8cbc16fa1b6"
      },
      "outputs": [
        {
          "output_type": "stream",
          "name": "stdout",
          "text": [
            "The First Image has the label False\n"
          ]
        },
        {
          "output_type": "display_data",
          "data": {
            "text/plain": [
              "<Figure size 640x480 with 2 Axes>"
            ],
            "image/png": "[encoded data removed]"
          },
          "metadata": {}
        }
      ],
      "source": [
        "#Let's have a look at the first image from our X_train and the\n",
        "# corresponding label from y_train\n",
        "print(\"The First Image has the label {}\".format(y_train[0]))\n",
        "plt.imshow(X_train[0])\n",
        "plt.colorbar()\n",
        "plt.title('Visualization of the Dataset')\n",
        "plt.show()"
      ]
    },
    {
      "cell_type": "markdown",
      "metadata": {
        "id": "e7QO_qj5uTN9"
      },
      "source": [
        "From the colorbar in the above visualization, it is clear that we have grayscale images in the dataset and hence their values range from 0 to 255. However, we would like to scale these pixel values in our dataset so that the values range from 0 to 1. This will help us to converge our CNN training faster"
      ]
    },
    {
      "cell_type": "code",
      "execution_count": null,
      "metadata": {
        "id": "e3qqMcOFvr5b"
      },
      "outputs": [],
      "source": [
        "#Normalizing the train and test image data\n",
        "X_train = X_train/255.0\n",
        "X_test = X_test/ 255.0"
      ]
    },
    {
      "cell_type": "code",
      "execution_count": null,
      "metadata": {
        "colab": {
          "base_uri": "https://localhost:8080/",
          "height": 452
        },
        "id": "Bevkendhuzsq",
        "outputId": "e54f10a3-9a03-4ef4-86f3-09f36ffbeeb0"
      },
      "outputs": [
        {
          "output_type": "display_data",
          "data": {
            "text/plain": [
              "<Figure size 640x480 with 2 Axes>"
            ],
            "image/png": "[encoded data removed]"
          },
          "metadata": {}
        }
      ],
      "source": [
        "#Let's again have a look at the first image from our X_train and\n",
        "#see if we have successfully normalized the datasets\n",
        "plt.imshow(X_train[0])\n",
        "plt.colorbar()\n",
        "plt.title('Visualization of the Dataset')\n",
        "plt.show()"
      ]
    },
    {
      "cell_type": "code",
      "execution_count": null,
      "metadata": {
        "id": "Cfgtl9kUD9H5"
      },
      "outputs": [],
      "source": [
        "#Before proceeding, we need to reshape our images in the dataset\n",
        "X_train = X_train.reshape(X_train.shape[0], *(28,28,1))\n",
        "X_test = X_test.reshape(X_test.shape[0], *(28,28,1))"
      ]
    },
    {
      "cell_type": "code",
      "execution_count": null,
      "metadata": {
        "id": "cvBKLXbc_cZg"
      },
      "outputs": [],
      "source": [
        "# Downscaling the images\n",
        "X_train = tf.image.resize(X_train, (2,2)).numpy()\n",
        "X_test = tf.image.resize(X_test, (2,2)).numpy()\n"
      ]
    },
    {
      "cell_type": "code",
      "execution_count": null,
      "metadata": {
        "colab": {
          "base_uri": "https://localhost:8080/",
          "height": 452
        },
        "id": "iKWbEihSJBX_",
        "outputId": "a19abe09-3044-426e-d2ef-e8c693cc9942"
      },
      "outputs": [
        {
          "output_type": "display_data",
          "data": {
            "text/plain": [
              "<Figure size 640x480 with 2 Axes>"
            ],
            "image/png": "[encoded data removed]"
          },
          "metadata": {}
        }
      ],
      "source": [
        "#Let's again have a look at the first image from our resized X_train\n",
        "plt.imshow(X_train[0,:,:,0])\n",
        "plt.colorbar()\n",
        "plt.title('Visualization of the Resized Dataset')\n",
        "plt.show()"
      ]
    },
    {
      "cell_type": "code",
      "execution_count": null,
      "metadata": {
        "id": "-yiNywWqP610"
      },
      "outputs": [],
      "source": [
        "#Splitting the training fdataset into train and validation datasets\n",
        "X_train, X_valid, y_train, y_valid = train_test_split(X_train, y_train, test_size = 0.15, random_state=0)"
      ]
    },
    {
      "cell_type": "code",
      "execution_count": null,
      "metadata": {
        "colab": {
          "base_uri": "https://localhost:8080/"
        },
        "id": "jy57uzOT-LvY",
        "outputId": "6744d627-ab36-47c1-bd15-25de1439eaf1"
      },
      "outputs": [
        {
          "output_type": "stream",
          "name": "stdout",
          "text": [
            "The shape of the X_train is (10200, 2, 2, 1)\n",
            "The shape of the y_train is (10200,)\n",
            "The shape of the X_valid is (1800, 2, 2, 1)\n",
            "The shape of the y_valid is (1800,)\n"
          ]
        }
      ],
      "source": [
        "print(\"The shape of the X_train is {}\".format(X_train.shape))\n",
        "print(\"The shape of the y_train is {}\".format(y_train.shape))\n",
        "print(\"The shape of the X_valid is {}\".format(X_valid.shape))\n",
        "print(\"The shape of the y_valid is {}\".format(y_valid.shape))"
      ]
    },
    {
      "cell_type": "markdown",
      "metadata": {
        "id": "hDTiCqXpPQ4x"
      },
      "source": [
        "## Data Encoding"
      ]
    },
    {
      "cell_type": "markdown",
      "metadata": {
        "id": "j54vI9ydZUfc"
      },
      "source": [
        "Steps involved in Data Encoding:\n",
        "\n",
        "* Processing pixel values for binary encoding\n",
        "\n",
        "* Converting Cirq Circuits to tfq tensors"
      ]
    },
    {
      "cell_type": "markdown",
      "metadata": {
        "id": "dJCkl4_tfERJ"
      },
      "source": [
        "**Step 1: Processing Pixel Values for Binary Encoding**"
      ]
    },
    {
      "cell_type": "code",
      "execution_count": null,
      "metadata": {
        "id": "mhxgJsxhfuzZ"
      },
      "outputs": [],
      "source": [
        "# FLattening the images\n",
        "X_train = X_train.reshape(X_train.shape[0], *(1,4,1))\n",
        "X_valid = X_valid.reshape(X_valid.shape[0], *(1,4,1))\n",
        "X_test = X_test.reshape(X_test.shape[0], *(1,4,1))"
      ]
    },
    {
      "cell_type": "markdown",
      "metadata": {
        "id": "DtYwPoLPd6iH"
      },
      "source": [
        "### Processing X_train"
      ]
    },
    {
      "cell_type": "code",
      "execution_count": null,
      "metadata": {
        "colab": {
          "base_uri": "https://localhost:8080/"
        },
        "id": "FuJABwN8eGNc",
        "outputId": "c8a4b549-db36-486c-f558-e9f8b570073a"
      },
      "outputs": [
        {
          "output_type": "stream",
          "name": "stdout",
          "text": [
            "[[[0.        ]\n",
            "  [0.41568628]\n",
            "  [0.7137255 ]\n",
            "  [0.73921573]]]\n"
          ]
        }
      ],
      "source": [
        "#Let's have a look on the first example\n",
        "print(X_train[0])"
      ]
    },
    {
      "cell_type": "code",
      "execution_count": null,
      "metadata": {
        "id": "rIzIktKfhXRi"
      },
      "outputs": [],
      "source": [
        "\n",
        "def binary_encode(X,threshold=0.5):\n",
        "  \"\"\"\n",
        "  Encodes the given datset to use binary encoding\n",
        "\n",
        "  Parameters:\n",
        "  X(array) : Image data to be processed for encoding\n",
        "  threshold(float): Threshold for binary encoding, 0.5 by default\n",
        "\n",
        "  Returns:\n",
        "  encoded_images(array): Binary encoded Image Data\n",
        "\n",
        "  \"\"\"\n",
        "  encoded_images = list()\n",
        "  for image in X:\n",
        "    # pixel value is 1 if it's greater than threshold or else zero\n",
        "    encoded_image = [1 if j>threshold else 0 for j in image[0]]\n",
        "    encoded_images.append(encoded_image)\n",
        "  return np.array(encoded_images)"
      ]
    },
    {
      "cell_type": "code",
      "execution_count": null,
      "metadata": {
        "id": "eymmTOimcxSN"
      },
      "outputs": [],
      "source": [
        "X_train = binary_encode(X_train)"
      ]
    },
    {
      "cell_type": "code",
      "execution_count": null,
      "metadata": {
        "colab": {
          "base_uri": "https://localhost:8080/"
        },
        "id": "sESCMm_xc47k",
        "outputId": "160c7c96-22d2-4bf8-96a8-bfb3282a32dc"
      },
      "outputs": [
        {
          "output_type": "stream",
          "name": "stdout",
          "text": [
            "[0 0 1 1]\n"
          ]
        }
      ],
      "source": [
        "# Now, Let's have a look on the first example again\n",
        "print(X_train[0])"
      ]
    },
    {
      "cell_type": "code",
      "execution_count": null,
      "metadata": {
        "colab": {
          "base_uri": "https://localhost:8080/"
        },
        "id": "PCv2dDsmfMOM",
        "outputId": "1c4c080f-5fe5-4b5f-a11e-0d7c41387a8c"
      },
      "outputs": [
        {
          "output_type": "stream",
          "name": "stdout",
          "text": [
            "The shape of the X_train is (10200, 4)\n"
          ]
        }
      ],
      "source": [
        "print(\"The shape of the X_train is {}\".format(X_train.shape))"
      ]
    },
    {
      "cell_type": "code",
      "execution_count": null,
      "metadata": {
        "id": "0P6g8CypTktk"
      },
      "outputs": [],
      "source": [
        "def create_circuit_from_image(encoded_image):\n",
        "  \"\"\"\n",
        "  Returns a circuit for given encoded image\n",
        "\n",
        "  Parameters:\n",
        "  encoded_image (array): Encoded Image\n",
        "\n",
        "  Returns:\n",
        "  circuit (cirq.Circuit object): cirq circuit\n",
        "  \"\"\"\n",
        "  qubits = cirq.GridQubit.rect(2,2)\n",
        "  circuit = cirq.Circuit()\n",
        "  for i, pixel in enumerate(encoded_image):\n",
        "    if pixel:\n",
        "      circuit.append(cirq.X(qubits[i]))\n",
        "  return circuit"
      ]
    },
    {
      "cell_type": "code",
      "execution_count": null,
      "metadata": {
        "id": "sTNIeH-2WA8-"
      },
      "outputs": [],
      "source": [
        "X_train = [create_circuit_from_image(encoded_image) for encoded_image in X_train]"
      ]
    },
    {
      "cell_type": "code",
      "execution_count": null,
      "metadata": {
        "colab": {
          "base_uri": "https://localhost:8080/"
        },
        "id": "g8kkNTVvWiBm",
        "outputId": "f5f3dba9-8d86-4e35-b7db-ae65bb299db1"
      },
      "outputs": [
        {
          "output_type": "stream",
          "name": "stdout",
          "text": [
            "(1, 0): ───X───\n",
            "\n",
            "(1, 1): ───X───\n"
          ]
        }
      ],
      "source": [
        "# Let's have a look at the circuit for the first image\n",
        "print(X_train[0])"
      ]
    },
    {
      "cell_type": "markdown",
      "metadata": {
        "id": "fUaCe4BLXM3m"
      },
      "source": [
        "Recall that the values for the first image were 0,0,1,1. This implies that we should apply X or NOT gate the last two qubuts since all the qubits are intially in the 0 states. Applying a X gate will change this state from zero to one. Therefore, we shall apply X Gate on the last two qubits. We have initialized the four qubits in a rectangular grid. Therefore, the initialized qubits are (0,0), (0,1), (1,0) and (1,1). In the above circuit diagram, note that we have a X gate on the qubits (1,0) and (1,1) which are the last two qubits. Hence, we have successfully created circuit for our image."
      ]
    },
    {
      "cell_type": "markdown",
      "metadata": {
        "id": "RCU6S7WhZ3Ct"
      },
      "source": [
        "**Step 2: Converting Cirq Circuits to tfq Tensors**"
      ]
    },
    {
      "cell_type": "code",
      "execution_count": null,
      "metadata": {
        "id": "MM-yJnfcZ2VO"
      },
      "outputs": [],
      "source": [
        "X_train_tfq = tfq.convert_to_tensor(X_train)"
      ]
    },
    {
      "cell_type": "markdown",
      "metadata": {
        "id": "nRdvapAEalmd"
      },
      "source": [
        "### Processing X_valid and X_test"
      ]
    },
    {
      "cell_type": "code",
      "execution_count": null,
      "metadata": {
        "id": "LbofYr2faX9J"
      },
      "outputs": [],
      "source": [
        "X_valid = binary_encode(X_valid)\n",
        "X_test = binary_encode(X_test)"
      ]
    },
    {
      "cell_type": "code",
      "execution_count": null,
      "metadata": {
        "id": "V5HoVBnXbLeP"
      },
      "outputs": [],
      "source": [
        "X_valid = [create_circuit_from_image(encoded_image) for encoded_image in X_valid]\n",
        "X_test = [create_circuit_from_image(encoded_image) for encoded_image in X_test]"
      ]
    },
    {
      "cell_type": "code",
      "execution_count": null,
      "metadata": {
        "id": "YsQE1fdFbcV0"
      },
      "outputs": [],
      "source": [
        "X_valid_tfq = tfq.convert_to_tensor(X_valid)\n",
        "X_test_tfq = tfq.convert_to_tensor(X_test)"
      ]
    },
    {
      "cell_type": "markdown",
      "metadata": {
        "id": "2Oo5q95fPT6n"
      },
      "source": [
        "## Quantum Neural Network"
      ]
    },
    {
      "cell_type": "markdown",
      "metadata": {
        "id": "RM86REiy7ChU"
      },
      "source": [
        "### Build the QNN"
      ]
    },
    {
      "cell_type": "markdown",
      "metadata": {
        "id": "m_lrpb-TcCJG"
      },
      "source": [
        "Building the Quantum Neural Network involves two steps\n",
        "\n",
        "* build a class that adds gates layer by layer\n",
        "\n",
        "* define the QNN using the class from the above step"
      ]
    },
    {
      "cell_type": "code",
      "execution_count": null,
      "metadata": {
        "id": "DycQEj54JrLW"
      },
      "outputs": [],
      "source": [
        "class QNN():\n",
        "    def __init__(self, data_qubits, readout):\n",
        "      self.data_qubits = data_qubits\n",
        "      self.readout = readout\n",
        "\n",
        "    def add_singleQubit_gate(self,circuit, gate, qubit_index):\n",
        "      \"\"\"\n",
        "      Adds single qubit gate to the circuit\n",
        "      Parameters:\n",
        "      circuit(cirq.Circuit object): Cirq circuit\n",
        "      gate(cirq gate): gate to append to the circuit\n",
        "      qubits(list): index of qubits to apply the gate\n",
        "      Returns:\n",
        "      None\n",
        "      \"\"\"\n",
        "      for index in qubit_index:\n",
        "        circuit.append(gate(self.data_qubits[index]))\n",
        "\n",
        "    def add_twoQubit_gate(self,circuit, gate, qubit_index):\n",
        "      \"\"\"\n",
        "      Adds two qubit gate to the circuit\n",
        "      Parameters:\n",
        "      circuit(cirq.Circuit object): Cirq circuit\n",
        "      gate(cirq gate): gate to append to the circuit\n",
        "      qubits(list): index of qubits to apply the gate\n",
        "      Returns:\n",
        "      None\n",
        "      \"\"\"\n",
        "      if len(qubit_index)!=2:\n",
        "        raise Exception(\"The length of the list of indices passed for two qubit \\\n",
        "        gate operations must be equal to two\")\n",
        "      circuit.append(gate(self.data_qubits[qubit_index[0]], self.data_qubits[qubit_index[1]]))\n",
        "\n",
        "    def add_layer(self, circuit, gate, symbol_gate):\n",
        "      \"\"\"\n",
        "      Adds New Gates/Layers to the Circuit\n",
        "      Parameters:\n",
        "      circuit(cirq.Circuit object): Cirq circuit\n",
        "      gate(cirq gate): gate to append to the circuit\n",
        "      symbol_gate(string): symbol for the gate\n",
        "      Returns:\n",
        "      None\n",
        "      \"\"\"\n",
        "      for i, qubit in enumerate(self.data_qubits):\n",
        "        symbol = sympy.Symbol(symbol_gate+ '-' + str(i))\n",
        "        circuit.append(gate(qubit, self.readout)**symbol)\n"
      ]
    },
    {
      "cell_type": "code",
      "execution_count": null,
      "metadata": {
        "id": "sQxpS03x1VKT"
      },
      "outputs": [],
      "source": [
        "def create_qnn():\n",
        "    \"\"\"Create a QNN model circuit and readout operation to go along with it.\"\"\"\n",
        "    data_qubits = cirq.GridQubit.rect(2,2)  # a 4x4 grid.\n",
        "    readout = cirq.GridQubit(-1, -1)         # a single qubit at [-1,-1]\n",
        "    circuit = cirq.Circuit()\n",
        "\n",
        "    # Prepare the readout qubit.\n",
        "    circuit.append(cirq.X(readout))\n",
        "    circuit.append(cirq.H(readout))\n",
        "\n",
        "    qnn = QNN(\n",
        "        data_qubits = data_qubits,\n",
        "        readout=readout)\n",
        "\n",
        "    \"\"\"\n",
        "    # Though we don't use single and double Qubit Gates in our Circuit, we provide\n",
        "    # the methods \"add_singleQubit_gate\" and \"add_twoQubit_gate\" for our Class QNN\n",
        "    # that can be used to add Single and Double Qubit Gates respectively.\n",
        "    # An exmaple is shown below:\n",
        "\n",
        "    #Add Hadamard Gates\n",
        "    qnn.add_singleQubit_gate(circuit, cirq.H, [0,1,2,3])\n",
        "\n",
        "    #Add CNOT gates\n",
        "    qnn.add_twoQubit_gate(circuit, cirq.CNOT, [0, 1])\n",
        "    qnn.add_twoQubit_gate(circuit, cirq.CNOT, [2, 3])\n",
        "    \"\"\"\n",
        "\n",
        "    # Add the ising coupling XX gate\n",
        "    qnn.add_layer(circuit, cirq.XX, \"xx\")\n",
        "    qnn.add_layer(circuit, cirq.ZZ, \"zz\")\n",
        "\n",
        "    # Finally, prepare the readout qubit.\n",
        "    circuit.append(cirq.H(readout))\n",
        "\n",
        "    return circuit, cirq.Z(readout)"
      ]
    },
    {
      "cell_type": "code",
      "execution_count": null,
      "metadata": {
        "id": "bkW8IUUj3Ats"
      },
      "outputs": [],
      "source": [
        "qmodel, model_readout = create_qnn()"
      ]
    },
    {
      "cell_type": "code",
      "execution_count": null,
      "metadata": {
        "colab": {
          "base_uri": "https://localhost:8080/",
          "height": 688
        },
        "id": "B8SigYUiGE0g",
        "outputId": "98ece362-f516-4b6d-d4ca-5aa67ff53d35"
      },
      "outputs": [
        {
          "output_type": "stream",
          "name": "stderr",
          "text": [
            "WARNING:matplotlib.font_manager:findfont: Font family 'Arial' not found.\n",
            "WARNING:matplotlib.font_manager:findfont: Font family 'Arial' not found.\n",
            "WARNING:matplotlib.font_manager:findfont: Font family 'Arial' not found.\n",
            "WARNING:matplotlib.font_manager:findfont: Font family 'Arial' not found.\n",
            "WARNING:matplotlib.font_manager:findfont: Font family 'Arial' not found.\n",
            "WARNING:matplotlib.font_manager:findfont: Font family 'Arial' not found.\n",
            "WARNING:matplotlib.font_manager:findfont: Font family 'Arial' not found.\n",
            "WARNING:matplotlib.font_manager:findfont: Font family 'Arial' not found.\n",
            "WARNING:matplotlib.font_manager:findfont: Font family 'Arial' not found.\n",
            "WARNING:matplotlib.font_manager:findfont: Font family 'Arial' not found.\n",
            "WARNING:matplotlib.font_manager:findfont: Font family 'Arial' not found.\n",
            "WARNING:matplotlib.font_manager:findfont: Font family 'Arial' not found.\n",
            "WARNING:matplotlib.font_manager:findfont: Font family 'Arial' not found.\n",
            "WARNING:matplotlib.font_manager:findfont: Font family 'Arial' not found.\n",
            "WARNING:matplotlib.font_manager:findfont: Font family 'Arial' not found.\n",
            "WARNING:matplotlib.font_manager:findfont: Font family 'Arial' not found.\n",
            "WARNING:matplotlib.font_manager:findfont: Font family 'Arial' not found.\n",
            "WARNING:matplotlib.font_manager:findfont: Font family 'Arial' not found.\n",
            "WARNING:matplotlib.font_manager:findfont: Font family 'Arial' not found.\n",
            "WARNING:matplotlib.font_manager:findfont: Font family 'Arial' not found.\n",
            "WARNING:matplotlib.font_manager:findfont: Font family 'Arial' not found.\n",
            "WARNING:matplotlib.font_manager:findfont: Font family 'Arial' not found.\n",
            "WARNING:matplotlib.font_manager:findfont: Font family 'Arial' not found.\n",
            "WARNING:matplotlib.font_manager:findfont: Font family 'Arial' not found.\n"
          ]
        },
        {
          "output_type": "execute_result",
          "data": {
            "text/plain": [
              "<cirq.contrib.svg.svg.SVGCircuit at 0x78d5c6ccbfd0>"
            ],
            "image/svg+xml": "<svg xmlns=\"http://www.w3.org/2000/svg\" width=\"1097.236875\" height=\"250.0\"><line x1=\"39.810625\" x2=\"1067.236875\" y1=\"25.0\" y2=\"25.0\" stroke=\"#1967d2\" stroke-width=\"1\" /><line x1=\"39.810625\" x2=\"1067.236875\" y1=\"75.0\" y2=\"75.0\" stroke=\"#1967d2\" stroke-width=\"1\" /><line x1=\"39.810625\" x2=\"1067.236875\" y1=\"125.0\" y2=\"125.0\" stroke=\"#1967d2\" stroke-width=\"1\" /><line x1=\"39.810625\" x2=\"1067.236875\" y1=\"175.0\" y2=\"175.0\" stroke=\"#1967d2\" stroke-width=\"1\" /><line x1=\"39.810625\" x2=\"1067.236875\" y1=\"225.0\" y2=\"225.0\" stroke=\"#1967d2\" stroke-width=\"1\" /><line x1=\"249.99353515625\" x2=\"249.99353515625\" y1=\"25.0\" y2=\"75.0\" stroke=\"black\" stroke-width=\"3\" /><line x1=\"350.73810546875006\" x2=\"350.73810546875006\" y1=\"25.0\" y2=\"125.0\" stroke=\"black\" stroke-width=\"3\" /><line x1=\"451.48267578125007\" x2=\"451.48267578125007\" y1=\"25.0\" y2=\"175.0\" stroke=\"black\" stroke-width=\"3\" /><line x1=\"552.2272460937501\" x2=\"552.2272460937501\" y1=\"25.0\" y2=\"225.0\" stroke=\"black\" stroke-width=\"3\" /><line x1=\"651.92919921875\" x2=\"651.92919921875\" y1=\"25.0\" y2=\"75.0\" stroke=\"black\" stroke-width=\"3\" /><line x1=\"750.58853515625\" x2=\"750.58853515625\" y1=\"25.0\" y2=\"125.0\" stroke=\"black\" stroke-width=\"3\" /><line x1=\"849.2478710937501\" x2=\"849.2478710937501\" y1=\"25.0\" y2=\"175.0\" stroke=\"black\" stroke-width=\"3\" /><line x1=\"947.9072070312501\" x2=\"947.9072070312501\" y1=\"25.0\" y2=\"225.0\" stroke=\"black\" stroke-width=\"3\" /><rect x=\"10.0\" y=\"5.0\" width=\"59.62125\" height=\"40\" stroke=\"black\" fill=\"white\" stroke-width=\"0\" /><text x=\"39.810625\" y=\"25.0\" dominant-baseline=\"middle\" text-anchor=\"middle\" font-size=\"14px\" font-family=\"Arial:style=normal:variant=normal:weight=normal:stretch=normal:size=10.0\">(-1, -1): </text><rect x=\"10.0\" y=\"55.0\" width=\"59.62125\" height=\"40\" stroke=\"black\" fill=\"white\" stroke-width=\"0\" /><text x=\"39.810625\" y=\"75.0\" dominant-baseline=\"middle\" text-anchor=\"middle\" font-size=\"14px\" font-family=\"Arial:style=normal:variant=normal:weight=normal:stretch=normal:size=10.0\">(0, 0): </text><rect x=\"10.0\" y=\"105.0\" width=\"59.62125\" height=\"40\" stroke=\"black\" fill=\"white\" stroke-width=\"0\" /><text x=\"39.810625\" y=\"125.0\" dominant-baseline=\"middle\" text-anchor=\"middle\" font-size=\"14px\" font-family=\"Arial:style=normal:variant=normal:weight=normal:stretch=normal:size=10.0\">(0, 1): </text><rect x=\"10.0\" y=\"155.0\" width=\"59.62125\" height=\"40\" stroke=\"black\" fill=\"white\" stroke-width=\"0\" /><text x=\"39.810625\" y=\"175.0\" dominant-baseline=\"middle\" text-anchor=\"middle\" font-size=\"14px\" font-family=\"Arial:style=normal:variant=normal:weight=normal:stretch=normal:size=10.0\">(1, 0): </text><rect x=\"10.0\" y=\"205.0\" width=\"59.62125\" height=\"40\" stroke=\"black\" fill=\"white\" stroke-width=\"0\" /><text x=\"39.810625\" y=\"225.0\" dominant-baseline=\"middle\" text-anchor=\"middle\" font-size=\"14px\" font-family=\"Arial:style=normal:variant=normal:weight=normal:stretch=normal:size=10.0\">(1, 1): </text><rect x=\"89.62125\" y=\"5.0\" width=\"40\" height=\"40\" stroke=\"black\" fill=\"white\" stroke-width=\"1\" /><text x=\"109.62125\" y=\"25.0\" dominant-baseline=\"middle\" text-anchor=\"middle\" font-size=\"18px\" font-family=\"Arial:style=normal:variant=normal:weight=normal:stretch=normal:size=10.0\">X</text><rect x=\"149.62125\" y=\"5.0\" width=\"40\" height=\"40\" stroke=\"black\" fill=\"white\" stroke-width=\"1\" /><text x=\"169.62125\" y=\"25.0\" dominant-baseline=\"middle\" text-anchor=\"middle\" font-size=\"18px\" font-family=\"Arial:style=normal:variant=normal:weight=normal:stretch=normal:size=10.0\">H</text><rect x=\"209.62125\" y=\"55.0\" width=\"80.74457031250002\" height=\"40\" stroke=\"black\" fill=\"white\" stroke-width=\"1\" /><text x=\"249.99353515625\" y=\"75.0\" dominant-baseline=\"middle\" text-anchor=\"middle\" font-size=\"14px\" font-family=\"Arial:style=normal:variant=normal:weight=normal:stretch=normal:size=10.0\">XX^(xx-0)</text><rect x=\"209.62125\" y=\"5.0\" width=\"80.74457031250002\" height=\"40\" stroke=\"black\" fill=\"white\" stroke-width=\"1\" /><text x=\"249.99353515625\" y=\"25.0\" dominant-baseline=\"middle\" text-anchor=\"middle\" font-size=\"14px\" font-family=\"Arial:style=normal:variant=normal:weight=normal:stretch=normal:size=10.0\">XX</text><rect x=\"310.36582031250003\" y=\"105.0\" width=\"80.74457031250002\" height=\"40\" stroke=\"black\" fill=\"white\" stroke-width=\"1\" /><text x=\"350.73810546875006\" y=\"125.0\" dominant-baseline=\"middle\" text-anchor=\"middle\" font-size=\"14px\" font-family=\"Arial:style=normal:variant=normal:weight=normal:stretch=normal:size=10.0\">XX^(xx-1)</text><rect x=\"310.36582031250003\" y=\"5.0\" width=\"80.74457031250002\" height=\"40\" stroke=\"black\" fill=\"white\" stroke-width=\"1\" /><text x=\"350.73810546875006\" y=\"25.0\" dominant-baseline=\"middle\" text-anchor=\"middle\" font-size=\"14px\" font-family=\"Arial:style=normal:variant=normal:weight=normal:stretch=normal:size=10.0\">XX</text><rect x=\"411.11039062500004\" y=\"155.0\" width=\"80.74457031250002\" height=\"40\" stroke=\"black\" fill=\"white\" stroke-width=\"1\" /><text x=\"451.48267578125007\" y=\"175.0\" dominant-baseline=\"middle\" text-anchor=\"middle\" font-size=\"14px\" font-family=\"Arial:style=normal:variant=normal:weight=normal:stretch=normal:size=10.0\">XX^(xx-2)</text><rect x=\"411.11039062500004\" y=\"5.0\" width=\"80.74457031250002\" height=\"40\" stroke=\"black\" fill=\"white\" stroke-width=\"1\" /><text x=\"451.48267578125007\" y=\"25.0\" dominant-baseline=\"middle\" text-anchor=\"middle\" font-size=\"14px\" font-family=\"Arial:style=normal:variant=normal:weight=normal:stretch=normal:size=10.0\">XX</text><rect x=\"511.85496093750004\" y=\"205.0\" width=\"80.74457031250002\" height=\"40\" stroke=\"black\" fill=\"white\" stroke-width=\"1\" /><text x=\"552.2272460937501\" y=\"225.0\" dominant-baseline=\"middle\" text-anchor=\"middle\" font-size=\"14px\" font-family=\"Arial:style=normal:variant=normal:weight=normal:stretch=normal:size=10.0\">XX^(xx-3)</text><rect x=\"511.85496093750004\" y=\"5.0\" width=\"80.74457031250002\" height=\"40\" stroke=\"black\" fill=\"white\" stroke-width=\"1\" /><text x=\"552.2272460937501\" y=\"25.0\" dominant-baseline=\"middle\" text-anchor=\"middle\" font-size=\"14px\" font-family=\"Arial:style=normal:variant=normal:weight=normal:stretch=normal:size=10.0\">XX</text><rect x=\"612.59953125\" y=\"55.0\" width=\"78.65933593750002\" height=\"40\" stroke=\"black\" fill=\"white\" stroke-width=\"1\" /><text x=\"651.92919921875\" y=\"75.0\" dominant-baseline=\"middle\" text-anchor=\"middle\" font-size=\"14px\" font-family=\"Arial:style=normal:variant=normal:weight=normal:stretch=normal:size=10.0\">ZZ^(zz-0)</text><rect x=\"612.59953125\" y=\"5.0\" width=\"78.65933593750002\" height=\"40\" stroke=\"black\" fill=\"white\" stroke-width=\"1\" /><text x=\"651.92919921875\" y=\"25.0\" dominant-baseline=\"middle\" text-anchor=\"middle\" font-size=\"14px\" font-family=\"Arial:style=normal:variant=normal:weight=normal:stretch=normal:size=10.0\">ZZ</text><rect x=\"711.2588671875001\" y=\"105.0\" width=\"78.65933593750002\" height=\"40\" stroke=\"black\" fill=\"white\" stroke-width=\"1\" /><text x=\"750.58853515625\" y=\"125.0\" dominant-baseline=\"middle\" text-anchor=\"middle\" font-size=\"14px\" font-family=\"Arial:style=normal:variant=normal:weight=normal:stretch=normal:size=10.0\">ZZ^(zz-1)</text><rect x=\"711.2588671875001\" y=\"5.0\" width=\"78.65933593750002\" height=\"40\" stroke=\"black\" fill=\"white\" stroke-width=\"1\" /><text x=\"750.58853515625\" y=\"25.0\" dominant-baseline=\"middle\" text-anchor=\"middle\" font-size=\"14px\" font-family=\"Arial:style=normal:variant=normal:weight=normal:stretch=normal:size=10.0\">ZZ</text><rect x=\"809.9182031250001\" y=\"155.0\" width=\"78.65933593750002\" height=\"40\" stroke=\"black\" fill=\"white\" stroke-width=\"1\" /><text x=\"849.2478710937501\" y=\"175.0\" dominant-baseline=\"middle\" text-anchor=\"middle\" font-size=\"14px\" font-family=\"Arial:style=normal:variant=normal:weight=normal:stretch=normal:size=10.0\">ZZ^(zz-2)</text><rect x=\"809.9182031250001\" y=\"5.0\" width=\"78.65933593750002\" height=\"40\" stroke=\"black\" fill=\"white\" stroke-width=\"1\" /><text x=\"849.2478710937501\" y=\"25.0\" dominant-baseline=\"middle\" text-anchor=\"middle\" font-size=\"14px\" font-family=\"Arial:style=normal:variant=normal:weight=normal:stretch=normal:size=10.0\">ZZ</text><rect x=\"908.5775390625001\" y=\"205.0\" width=\"78.65933593750002\" height=\"40\" stroke=\"black\" fill=\"white\" stroke-width=\"1\" /><text x=\"947.9072070312501\" y=\"225.0\" dominant-baseline=\"middle\" text-anchor=\"middle\" font-size=\"14px\" font-family=\"Arial:style=normal:variant=normal:weight=normal:stretch=normal:size=10.0\">ZZ^(zz-3)</text><rect x=\"908.5775390625001\" y=\"5.0\" width=\"78.65933593750002\" height=\"40\" stroke=\"black\" fill=\"white\" stroke-width=\"1\" /><text x=\"947.9072070312501\" y=\"25.0\" dominant-baseline=\"middle\" text-anchor=\"middle\" font-size=\"14px\" font-family=\"Arial:style=normal:variant=normal:weight=normal:stretch=normal:size=10.0\">ZZ</text><rect x=\"1007.236875\" y=\"5.0\" width=\"40\" height=\"40\" stroke=\"black\" fill=\"white\" stroke-width=\"1\" /><text x=\"1027.236875\" y=\"25.0\" dominant-baseline=\"middle\" text-anchor=\"middle\" font-size=\"18px\" font-family=\"Arial:style=normal:variant=normal:weight=normal:stretch=normal:size=10.0\">H</text></svg>"
          },
          "metadata": {},
          "execution_count": 35
        }
      ],
      "source": [
        "#Let's have a look at our Qauntum Circuit that will perform the classification\n",
        "SVGCircuit(qmodel)"
      ]
    },
    {
      "cell_type": "code",
      "execution_count": null,
      "metadata": {
        "id": "fi0bmTsp3VHB"
      },
      "outputs": [],
      "source": [
        "model = tf.keras.Sequential([\n",
        "\n",
        "    # The input is the data-circuit, encoded as a tf.string\n",
        "    tf.keras.layers.Input(shape=(), dtype=tf.string),\n",
        "\n",
        "\n",
        "    # The PQC stands for Paramaterized Quantum Circuit\n",
        "    # This returns the expectation value\n",
        "    tfq.layers.PQC(qmodel, model_readout),\n",
        "])"
      ]
    },
    {
      "cell_type": "code",
      "execution_count": null,
      "metadata": {
        "id": "-Es8_ATXDFL6"
      },
      "outputs": [],
      "source": [
        "# To use Hinge Loss, we convert the labels to 1 and -1\n",
        "y_train_h = np.array([1 if i==1 else -1 for i in y_train ])\n",
        "y_valid_h = np.array([1 if i==1 else -1 for i in y_valid ])\n",
        "y_test_h = np.array([1 if i==1 else -1 for i in y_test ])"
      ]
    },
    {
      "cell_type": "code",
      "execution_count": null,
      "metadata": {
        "colab": {
          "base_uri": "https://localhost:8080/"
        },
        "id": "tueGJaAWOtWf",
        "outputId": "600fd869-305c-4a82-bdb7-6082d34d0734"
      },
      "outputs": [
        {
          "output_type": "stream",
          "name": "stdout",
          "text": [
            "1\n"
          ]
        }
      ],
      "source": [
        "# Let's have a look at the first label from the training dataset\n",
        "print(y_train_h[0])"
      ]
    },
    {
      "cell_type": "code",
      "execution_count": null,
      "metadata": {
        "id": "Ifriy2HyoI-O"
      },
      "outputs": [],
      "source": [
        "# Define the custom Hinge Accuracy\n",
        "def hinge_accuracy(y_true, y_pred):\n",
        "    y_true = tf.squeeze(y_true) > 0.0\n",
        "    y_pred = tf.squeeze(y_pred) > 0.0\n",
        "    result = tf.cast(y_true == y_pred, tf.float32)\n",
        "\n",
        "    return tf.reduce_mean(result)"
      ]
    },
    {
      "cell_type": "markdown",
      "metadata": {
        "id": "WUewMTq87Hl3"
      },
      "source": [
        "### Train the QNN"
      ]
    },
    {
      "cell_type": "code",
      "execution_count": null,
      "metadata": {
        "id": "klSZErcc3kAz"
      },
      "outputs": [],
      "source": [
        "model.compile(\n",
        "    loss=tf.keras.losses.Hinge(),\n",
        "    optimizer=tf.keras.optimizers.Adam(learning_rate=0.001),\n",
        "    metrics=[hinge_accuracy])"
      ]
    },
    {
      "cell_type": "code",
      "execution_count": null,
      "metadata": {
        "colab": {
          "base_uri": "https://localhost:8080/"
        },
        "id": "nO3eEigt4HgT",
        "outputId": "3c52b3b3-b3a7-4297-ef73-e8bb5f5eefbd"
      },
      "outputs": [
        {
          "output_type": "stream",
          "name": "stdout",
          "text": [
            "Epoch 1/10\n",
            "160/160 [==============================] - 10s 51ms/step - loss: 1.0315 - hinge_accuracy: 0.4331 - val_loss: 0.8901 - val_hinge_accuracy: 0.7258\n",
            "Epoch 2/10\n",
            "160/160 [==============================] - 9s 59ms/step - loss: 0.7453 - hinge_accuracy: 0.7058 - val_loss: 0.6009 - val_hinge_accuracy: 0.6983\n",
            "Epoch 3/10\n",
            "160/160 [==============================] - 7s 45ms/step - loss: 0.4960 - hinge_accuracy: 0.7720 - val_loss: 0.4375 - val_hinge_accuracy: 0.7958\n",
            "Epoch 4/10\n",
            "160/160 [==============================] - 9s 54ms/step - loss: 0.4055 - hinge_accuracy: 0.8022 - val_loss: 0.4142 - val_hinge_accuracy: 0.7958\n",
            "Epoch 5/10\n",
            "160/160 [==============================] - 7s 47ms/step - loss: 0.3965 - hinge_accuracy: 0.8027 - val_loss: 0.4130 - val_hinge_accuracy: 0.7958\n",
            "Epoch 6/10\n",
            "160/160 [==============================] - 8s 48ms/step - loss: 0.3955 - hinge_accuracy: 0.8027 - val_loss: 0.4130 - val_hinge_accuracy: 0.7958\n",
            "Epoch 7/10\n",
            "160/160 [==============================] - 8s 47ms/step - loss: 0.3952 - hinge_accuracy: 0.8028 - val_loss: 0.4131 - val_hinge_accuracy: 0.7958\n",
            "Epoch 8/10\n",
            "160/160 [==============================] - 7s 44ms/step - loss: 0.3951 - hinge_accuracy: 0.8027 - val_loss: 0.4132 - val_hinge_accuracy: 0.7958\n",
            "Epoch 9/10\n",
            "160/160 [==============================] - 8s 49ms/step - loss: 0.3950 - hinge_accuracy: 0.8028 - val_loss: 0.4132 - val_hinge_accuracy: 0.7958\n",
            "Epoch 10/10\n",
            "160/160 [==============================] - 7s 42ms/step - loss: 0.3950 - hinge_accuracy: 0.8025 - val_loss: 0.4133 - val_hinge_accuracy: 0.7958\n"
          ]
        }
      ],
      "source": [
        "qnn_history = model.fit(\n",
        "      X_train_tfq, y_train_h,\n",
        "      batch_size=64,\n",
        "      epochs=10,\n",
        "      verbose=1,\n",
        "      validation_data=(X_valid_tfq, y_valid_h))"
      ]
    },
    {
      "cell_type": "code",
      "execution_count": null,
      "metadata": {
        "colab": {
          "base_uri": "https://localhost:8080/"
        },
        "id": "WBY-ECy54qyC",
        "outputId": "c43162d9-feab-4ac0-b4d7-bdaeb88b8f1b"
      },
      "outputs": [
        {
          "output_type": "stream",
          "name": "stdout",
          "text": [
            "63/63 [==============================] - 1s 13ms/step - loss: 0.3552 - hinge_accuracy: 0.8229\n"
          ]
        },
        {
          "output_type": "execute_result",
          "data": {
            "text/plain": [
              "[0.355218768119812, 0.8229166865348816]"
            ]
          },
          "metadata": {},
          "execution_count": 42
        }
      ],
      "source": [
        "model.evaluate(X_test_tfq, y_test_h)"
      ]
    },
    {
      "cell_type": "markdown",
      "metadata": {
        "id": "dw6i8L1RQIUI"
      },
      "source": [
        "## Visualize the Results"
      ]
    },
    {
      "cell_type": "code",
      "execution_count": null,
      "metadata": {
        "colab": {
          "base_uri": "https://localhost:8080/",
          "height": 472
        },
        "id": "NK6Aw5LdOiWh",
        "outputId": "2e12677a-ef9e-4e89-b59c-11e281c6b245"
      },
      "outputs": [
        {
          "output_type": "display_data",
          "data": {
            "text/plain": [
              "<Figure size 640x480 with 1 Axes>"
            ],
            "image/png": "[encoded data removed]"
          },
          "metadata": {}
        }
      ],
      "source": [
        "# Visualize Accuracy\n",
        "plt.plot(qnn_history.history['hinge_accuracy'])\n",
        "plt.plot(qnn_history.history['val_hinge_accuracy'])\n",
        "plt.title('Model Accuracy')\n",
        "plt.xlabel('Epoch')\n",
        "plt.ylabel('Accuracy')\n",
        "plt.legend(['train','test'],loc=\"best\")\n",
        "plt.show()"
      ]
    },
    {
      "cell_type": "code",
      "execution_count": null,
      "metadata": {
        "colab": {
          "base_uri": "https://localhost:8080/",
          "height": 472
        },
        "id": "9IbgVjZQRAue",
        "outputId": "cbfb0dcf-8d4e-4425-c429-545b99366c2c"
      },
      "outputs": [
        {
          "output_type": "display_data",
          "data": {
            "text/plain": [
              "<Figure size 640x480 with 1 Axes>"
            ],
            "image/png": "[encoded data removed]"
          },
          "metadata": {}
        }
      ],
      "source": [
        "# Visualize Loss\n",
        "plt.plot(qnn_history.history['loss'])\n",
        "plt.plot(qnn_history.history['val_loss'])\n",
        "plt.title('Model Loss')\n",
        "plt.xlabel('Epoch')\n",
        "plt.ylabel('Loss')\n",
        "plt.legend(['train','test'],loc=\"best\")\n",
        "plt.show()"
      ]
    },
    {
      "cell_type": "markdown",
      "metadata": {
        "id": "nxx-qCBIRcih"
      },
      "source": [
        "## Save The Model Weights"
      ]
    },
    {
      "cell_type": "code",
      "execution_count": null,
      "metadata": {
        "id": "Sh4pazWbRjR_"
      },
      "outputs": [],
      "source": [
        "#Saving the weights\n",
        "model.save_weights('/content/sample_data/QModelWeights')"
      ]
    },
    {
      "cell_type": "markdown",
      "metadata": {
        "id": "iXLmchzKapew"
      },
      "source": [
        "## Refernces"
      ]
    },
    {
      "cell_type": "markdown",
      "metadata": {
        "id": "_fx9p7mparf3"
      },
      "source": [
        "* https://www.tensorflow.org/quantum/tutorials/mnist\n",
        "* https://quantumai.google/cirq/tutorials\n",
        "* [Paper by Farhi et al.](https://arxiv.org/pdf/1802.06002.pdf)\n",
        "* [Paper by Dmitri Maslov](https://www.google.com/url?sa=t&source=web&rct=j&url=https://arxiv.org/pdf/1603.07678&ved=2ahUKEwi86KbBlfvuAhUmzDgGHfteCIsQFjAJegQIHhAC&usg=AOvVaw04beRgWLMZhYBV6GpyygHF)"
      ]
    }
  ],
  "metadata": {
    "colab": {
      "provenance": [],
      "toc_visible": true
    },
    "kernelspec": {
      "display_name": "Python 3 (ipykernel)",
      "language": "python",
      "name": "python3"
    },
    "language_info": {
      "codemirror_mode": {
        "name": "ipython",
        "version": 3
      },
      "file_extension": ".py",
      "mimetype": "text/x-python",
      "name": "python",
      "nbconvert_exporter": "python",
      "pygments_lexer": "ipython3",
      "version": "3.12.0"
    }
  },
  "nbformat": 4,
  "nbformat_minor": 0
}